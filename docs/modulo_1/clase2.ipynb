{
 "cells": [
  {
   "attachments": {},
   "cell_type": "markdown",
   "metadata": {},
   "source": [
    "# Clase 2: Estructuras de Decisión y Bucles en Python\n",
    "\n",
    "<a href=\"https://colab.research.google.com/github/hizocar/python_andes_analytics/blob/main/docs/modulo_1/clase2.ipynb\" target=\"_parent\"><img src=\"https://colab.research.google.com/assets/colab-badge.svg\" alt=\"Open In Colab\"/></a>\n",
    "\n",
    "## Control de Flujo\n",
    "El control de flujo se refiere a la dirección en la que se ejecutan las instrucciones de un programa. En Python, el control de flujo se maneja principalmente mediante estructuras condicionales y bucles."
   ]
  },
  {
   "attachments": {},
   "cell_type": "markdown",
   "metadata": {},
   "source": [
    "## Estructuras de Decisión\n",
    "\n",
    "### If, Else, Elif\n",
    "\n",
    "- `if`: Se utiliza para ejecutar un bloque de código si se cumple una condición.\n",
    "- `else`: Se ejecuta si las condiciones anteriores no se cumplen.\n",
    "- `elif`: Se utiliza para verificar múltiples condiciones en secuencia."
   ]
  },
  {
   "cell_type": "code",
   "execution_count": null,
   "metadata": {},
   "outputs": [],
   "source": [
    "numero = 10\n",
    "\n",
    "if numero > 0:\n",
    "    print(\"Número positivo\")\n",
    "elif numero == 0:\n",
    "    print(\"Número es cero\")\n",
    "else:\n",
    "    print(\"Número negativo\")"
   ]
  },
  {
   "cell_type": "code",
   "execution_count": null,
   "metadata": {},
   "outputs": [],
   "source": [
    "edad = 20\n",
    "if edad < 18:\n",
    "    print(\"Menor de edad\")\n",
    "else:\n",
    "    print(\"Mayor de edad\")"
   ]
  },
  {
   "attachments": {},
   "cell_type": "markdown",
   "metadata": {},
   "source": [
    "## Bucles: for, while\n",
    "\n",
    "Permiten ejecutar un bloque de código repetidamente, ya sea un número determinado de veces (for) o mientras se cumpla una condición (while)."
   ]
  },
  {
   "attachments": {},
   "cell_type": "markdown",
   "metadata": {},
   "source": [
    "### For\n",
    "\n",
    "- Se utiliza para iterar sobre una secuencia (como una lista, tupla, diccionario, conjunto o cadena)."
   ]
  },
  {
   "cell_type": "code",
   "execution_count": null,
   "metadata": {},
   "outputs": [],
   "source": [
    "for i in range(5):\n",
    "    print(i)"
   ]
  },
  {
   "attachments": {},
   "cell_type": "markdown",
   "metadata": {},
   "source": [
    "### While\n",
    "\n",
    "- Ejecuta un conjunto de instrucciones mientras una condición sea verdadera."
   ]
  },
  {
   "cell_type": "code",
   "execution_count": null,
   "metadata": {},
   "outputs": [],
   "source": [
    "contador = 0\n",
    "while contador < 5:\n",
    "    print(contador)\n",
    "    contador += 1"
   ]
  },
  {
   "attachments": {},
   "cell_type": "markdown",
   "metadata": {},
   "source": [
    "## Control de Flujo y Manejo de Errores Básico"
   ]
  },
  {
   "attachments": {},
   "cell_type": "markdown",
   "metadata": {},
   "source": [
    "En Python, el control de flujo y el manejo de errores son aspectos fundamentales para escribir programas robustos y eficientes. Estos conceptos ayudan a gestionar situaciones inesperadas y a controlar la ejecución del programa de manera lógica y ordenada."
   ]
  },
  {
   "attachments": {},
   "cell_type": "markdown",
   "metadata": {},
   "source": [
    "### Try, Except\n",
    "\n",
    "- `try`: Bloque de código que se intenta ejecutar.\n",
    "- `except`: Se ejecuta si ocurre un error en el bloque try."
   ]
  },
  {
   "cell_type": "code",
   "execution_count": null,
   "metadata": {},
   "outputs": [],
   "source": [
    "try:\n",
    "    resultado = 10 / 0\n",
    "except ZeroDivisionError:\n",
    "    print(\"División por cero.\")"
   ]
  },
  {
   "attachments": {},
   "cell_type": "markdown",
   "metadata": {},
   "source": [
    "### Finally:\n",
    "\n",
    "Opcionalmente, después de los bloques try y except, se puede utilizar un bloque finally.\n",
    "El bloque finally se ejecuta siempre, independientemente de si se produjo una excepción o no.\n",
    "Es útil para realizar tareas de limpieza, como cerrar archivos o liberar recursos.\n",
    "Ejemplo:"
   ]
  },
  {
   "cell_type": "code",
   "execution_count": null,
   "metadata": {},
   "outputs": [],
   "source": [
    "try:\n",
    "    f = open(\"archivo.txt\")\n",
    "    # Procesar archivo\n",
    "except FileNotFoundError:\n",
    "    print(\"Archivo no encontrado\")\n",
    "finally:\n",
    "    print('fin')"
   ]
  },
  {
   "attachments": {},
   "cell_type": "markdown",
   "metadata": {},
   "source": [
    "### Else en Manejo de Errores:\n",
    "\n",
    "Se puede agregar un bloque else después de los bloques try y except.\n",
    "El bloque else se ejecuta si no se produce ninguna excepción en el bloque try.\n",
    "Ejemplo:"
   ]
  },
  {
   "cell_type": "code",
   "execution_count": null,
   "metadata": {},
   "outputs": [],
   "source": [
    "try:\n",
    "    print(\"Intentando...\")\n",
    "except Exception:\n",
    "    print(\"Ocurrió una excepción\")\n",
    "else:\n",
    "    print(\"Todo salió bien\")"
   ]
  },
  {
   "attachments": {},
   "cell_type": "markdown",
   "metadata": {},
   "source": [
    "## Control dentro del flujo"
   ]
  },
  {
   "attachments": {},
   "cell_type": "markdown",
   "metadata": {},
   "source": [
    "### Break\n",
    "El break se usa para salir de un bucle (for o while) antes de que este haya completado todas sus iteraciones. Es especialmente útil cuando, en medio de la ejecución del bucle, se cumple una condición específica y no es necesario continuar con las iteraciones restantes."
   ]
  },
  {
   "cell_type": "code",
   "execution_count": null,
   "metadata": {},
   "outputs": [],
   "source": [
    "for numero in range(1, 10):\n",
    "    if numero == 5:\n",
    "        break\n",
    "    print(numero)\n",
    "# Salida: 1, 2, 3, 4"
   ]
  },
  {
   "attachments": {},
   "cell_type": "markdown",
   "metadata": {},
   "source": [
    "### Continue\n",
    "Por otro lado, continue se utiliza para saltar el resto del código dentro de un bucle para una iteración específica. Al encontrar un continue, el bucle inmediatamente comienza su siguiente iteración."
   ]
  },
  {
   "cell_type": "code",
   "execution_count": null,
   "metadata": {},
   "outputs": [],
   "source": [
    "for numero in range(1, 10):\n",
    "    if numero % 2 == 0:\n",
    "        continue\n",
    "    print(numero)\n",
    "# Salida: 1, 3, 5, 7, 9"
   ]
  },
  {
   "attachments": {},
   "cell_type": "markdown",
   "metadata": {},
   "source": [
    "### Uso Combinado de Break y Continue\n",
    "break y continue pueden usarse juntos en bucles más complejos para proporcionar un control más detallado sobre la ejecución del bucle. Por ejemplo, podrías querer detener un bucle si se cumple una condición, pero también quieres saltar ciertas iteraciones que no cumplen con un criterio específico."
   ]
  },
  {
   "cell_type": "code",
   "execution_count": null,
   "metadata": {},
   "outputs": [],
   "source": [
    "for numero in range(1, 10):\n",
    "    if numero == 7:\n",
    "        break\n",
    "    if numero % 2 == 0:\n",
    "        continue\n",
    "    print(numero)\n",
    "# Salida: 1, 3, 5"
   ]
  },
  {
   "attachments": {},
   "cell_type": "markdown",
   "metadata": {},
   "source": [
    "## Ejercicio: Cálculo de Prima de Seguros con Estructuras de Decisión, Bucles y Manejo de Errores\n",
    "### Contexto del Problema:\n",
    "Como actuario en una compañía de seguros, necesitas calcular la prima de seguros para una lista de individuos. La prima se basa en la edad y en ciertos factores de riesgo. Además, si se encuentra un error en los datos de un individuo (por ejemplo, una edad no válida), debes manejarlo adecuadamente sin detener el proceso para el resto de individuos.\n",
    "\n",
    "### Datos de Entrada\n",
    "- Una lista de diccionarios, donde cada diccionario contiene la edad y el factor_de_riesgo de una persona.\n",
    "- Si la edad es inválida (no numérica o negativa), se debe manejar el error.\n",
    "### Reglas para el Cálculo de la Prima\n",
    "- La prima base es de 100 unidades monetarias.\n",
    "- Por cada año por encima de los 30, se añade un 3% a la prima base.\n",
    "- El factor_de_riesgo es un multiplicador que se aplica sobre la prima total.\n",
    "### Tareas a Realizar\n",
    "- Itera sobre cada individuo en la lista.\n",
    "- Calcula la prima de seguro si los datos son válidos.\n",
    "- Maneja cualquier error en los datos sin detener el proceso para los demás.\n",
    "- Imprime la prima calculada para cada individuo o un mensaje de error si los datos son inválidos.\n",
    "- Si el factor_de_riesgo es 0, omite el cálculo para ese individuo y continua con el siguiente."
   ]
  },
  {
   "cell_type": "code",
   "execution_count": null,
   "metadata": {},
   "outputs": [],
   "source": [
    "personas = [\n",
    "    {\"edad\": 25, \"factor_de_riesgo\": 1.2},\n",
    "    {\"edad\": 40, \"factor_de_riesgo\": 1.5},\n",
    "    {\"edad\": -5, \"factor_de_riesgo\": 1.0},  # Edad inválida\n",
    "    {\"edad\": 35, \"factor_de_riesgo\": 0},    # Factor de riesgo 0, se omite\n",
    "    {\"edad\": \"treinta\", \"factor_de_riesgo\": 1.3},  # Edad no numérica\n",
    "]"
   ]
  },
  {
   "cell_type": "code",
   "execution_count": null,
   "metadata": {},
   "outputs": [],
   "source": [
    "edad = 50\n",
    "factor_de_riesgo = 1.3"
   ]
  },
  {
   "cell_type": "code",
   "execution_count": null,
   "metadata": {},
   "outputs": [],
   "source": [
    "prima_base = 100\n",
    "if edad > 30:\n",
    "    prima_base += (edad - 30) * 3\n",
    "prima = prima_base * factor_de_riesgo"
   ]
  },
  {
   "cell_type": "code",
   "execution_count": null,
   "metadata": {},
   "outputs": [],
   "source": [
    "for persona in personas:\n",
    "    try:\n",
    "        edad = persona[\"edad\"]\n",
    "        factor_de_riesgo = persona[\"factor_de_riesgo\"]\n",
    "        \n",
    "        if factor_de_riesgo == 0:\n",
    "            continue\n",
    "\n",
    "\n",
    "        \n",
    "        prima_base = 100\n",
    "        if edad > 30:\n",
    "           prima_base += (edad - 30) * 3\n",
    "        prima = prima_base * factor_de_riesgo\n",
    "\n",
    "\n",
    "\n",
    "        print(f\"Prima para edad {edad}: {prima}\")\n",
    "    except TypeError:\n",
    "        print(f\"Error en los datos: edad no numérica para {persona}\")\n",
    "    except ValueError:\n",
    "        print(f\"Error en los datos: edad inválida {edad} para {persona}\")"
   ]
  },
  {
   "attachments": {},
   "cell_type": "markdown",
   "metadata": {},
   "source": [
    "## Ejercicio Avanzado: Análisis de Cartera de Seguros\n",
    "### Contexto del Problema:\n",
    "Como actuario en una compañía de seguros, debes realizar un análisis más detallado de una cartera de seguros. Tu tarea es calcular la prima de seguros para una lista de pólizas y determinar qué pólizas deben ser revisadas debido a condiciones específicas.\n",
    "\n",
    "## Datos de Entrada\n",
    "- Una lista de diccionarios, cada uno representando una póliza de seguro con los siguientes datos: id_póliza, edad, factor_de_riesgo y estado.\n",
    "- Los estados posibles de una póliza son: \"Activa\", \"En Revisión\", \"Cancelada\".\n",
    "## Tareas a Realizar\n",
    "- Itera sobre cada póliza.\n",
    "- Verifica si la póliza está \"Activa\". Si no lo está, imprime un mensaje y continúa con la siguiente.\n",
    "- Si la edad es inválida (no numérica o negativa), maneja el error e imprime un mensaje.\n",
    "- Si el factor_de_riesgo es muy alto (por ejemplo, mayor a 1.5), marca la póliza para revisión.\n",
    "- Calcula la prima de seguro.\n",
    "- Imprime la prima calculada y el estado de la póliza (si es \"Activa\" o \"En Revisión\")."
   ]
  },
  {
   "cell_type": "code",
   "execution_count": null,
   "metadata": {},
   "outputs": [],
   "source": [
    "polizas = [\n",
    "    {\"id_póliza\": 1, \"edad\": 30, \"factor_de_riesgo\": 1.2, \"estado\": \"Activa\"},\n",
    "    {\"id_póliza\": 2, \"edad\": 50, \"factor_de_riesgo\": 1.6, \"estado\": \"Activa\"},  # Factor de riesgo alto\n",
    "    {\"id_póliza\": 3, \"edad\": \"cuarenta\", \"factor_de_riesgo\": 1.3, \"estado\": \"Activa\"},  # Edad no numérica\n",
    "    {\"id_póliza\": 4, \"edad\": 45, \"factor_de_riesgo\": 1.2, \"estado\": \"Cancelada\"},\n",
    "    {\"id_póliza\": 5, \"edad\": -10, \"factor_de_riesgo\": 1.0, \"estado\": \"Activa\"},  # Edad inválida\n",
    "]"
   ]
  },
  {
   "cell_type": "code",
   "execution_count": null,
   "metadata": {},
   "outputs": [],
   "source": [
    "for poliza in polizas:\n",
    "    id_póliza = poliza[\"id_póliza\"]\n",
    "    estado = poliza[\"estado\"]\n",
    "\n",
    "    if estado != \"Activa\":\n",
    "        print(f\"Póliza {id_póliza}: Estado no activo, se omite.\")\n",
    "        continue\n",
    "\n",
    "    try:\n",
    "        edad = int(poliza[\"edad\"])\n",
    "        factor_de_riesgo = poliza[\"factor_de_riesgo\"]\n",
    "\n",
    "        if edad < 0:\n",
    "            raise ValueError(\"Edad inválida\")\n",
    "\n",
    "        prima_base = 100\n",
    "        if edad > 30:\n",
    "            prima_base += (edad - 30) * 3\n",
    "\n",
    "        prima_total = prima_base * factor_de_riesgo\n",
    "\n",
    "        if factor_de_riesgo > 1.5:\n",
    "            estado = \"En Revisión\"\n",
    "\n",
    "        print(f\"Póliza {id_póliza}: Prima = {prima_total}, Estado = {estado}\")\n",
    "\n",
    "    except ValueError as ve:\n",
    "        print(f\"Póliza {id_póliza}: Error en los datos - {ve}\")\n",
    "    except TypeError:\n",
    "        print(f\"Póliza {id_póliza}: Error - Edad no numérica\")"
   ]
  },
  {
   "cell_type": "code",
   "execution_count": null,
   "metadata": {},
   "outputs": [],
   "source": []
  }
 ],
 "metadata": {
  "kernelspec": {
   "display_name": "Python 3",
   "language": "python",
   "name": "python3"
  },
  "language_info": {
   "codemirror_mode": {
    "name": "ipython",
    "version": 3
   },
   "file_extension": ".py",
   "mimetype": "text/x-python",
   "name": "python",
   "nbconvert_exporter": "python",
   "pygments_lexer": "ipython3",
   "version": "3.8.9"
  }
 },
 "nbformat": 4,
 "nbformat_minor": 4
}
