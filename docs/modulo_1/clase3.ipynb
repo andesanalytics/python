{
 "cells": [
  {
   "attachments": {},
   "cell_type": "markdown",
   "metadata": {},
   "source": [
    "# Clase 3: Funciones y modulos en Python"
   ]
  },
  {
   "attachments": {},
   "cell_type": "markdown",
   "metadata": {},
   "source": [
    "<a href=\"https://colab.research.google.com/github/hizocar/python_andes_analytics/blob/main/docs/modulo_1/clase3.ipynb\" target=\"_parent\"><img src=\"https://colab.research.google.com/assets/colab-badge.svg\" alt=\"Open In Colab\"/></a>"
   ]
  },
  {
   "attachments": {},
   "cell_type": "markdown",
   "metadata": {},
   "source": [
    "## ¿Qué es una función?\n",
    "Una función es un bloque de código reutilizable diseñado para realizar una tarea específica.\n",
    "En la programación, las funciones son útiles para segmentar un programa en partes más pequeñas y manejables.\n",
    "\n",
    "## Estructura de una función en Python\n",
    "Una función en Python se define usando la palabra clave def, seguida del nombre de la función y paréntesis ().\n",
    "Dentro de los paréntesis, se pueden definir parámetros, que son valores que la función puede recibir para ejecutar su tarea.\n",
    "La función termina con dos puntos :, seguido del bloque de código indentado que define las acciones de la función.\n"
   ]
  },
  {
   "attachments": {},
   "cell_type": "markdown",
   "metadata": {},
   "source": [
    "## Definición de funciones: def\n",
    "Sintaxis básica:"
   ]
  },
  {
   "cell_type": "code",
   "execution_count": null,
   "metadata": {},
   "outputs": [],
   "source": [
    "def nombre_de_la_funcion(parametros):\n",
    "    # Cuerpo de la función\n",
    "    # Instrucciones a ejecutar\n",
    "    return resultado  # Opcional"
   ]
  },
  {
   "attachments": {},
   "cell_type": "markdown",
   "metadata": {},
   "source": [
    "### Ejemplos de funciones simples"
   ]
  },
  {
   "cell_type": "code",
   "execution_count": null,
   "metadata": {},
   "outputs": [],
   "source": [
    "# Función sin parámetros\n",
    "def saludar():\n",
    "    print(\"¡Hola Mundo!\")"
   ]
  },
  {
   "cell_type": "code",
   "execution_count": null,
   "metadata": {},
   "outputs": [],
   "source": [
    "#Función con parámetros\n",
    "def sumar(a, b):\n",
    "    return a + b"
   ]
  },
  {
   "attachments": {},
   "cell_type": "markdown",
   "metadata": {},
   "source": [
    "## Práctica"
   ]
  },
  {
   "attachments": {},
   "cell_type": "markdown",
   "metadata": {},
   "source": [
    "### Ejercicio 1: Creación de una función básica\n",
    "- Objetivo: Escribir una función que sume dos números.\n",
    "- Descripción: La función sumar tomará dos argumentos y devolverá su suma."
   ]
  },
  {
   "attachments": {},
   "cell_type": "markdown",
   "metadata": {},
   "source": [
    "### Ejercicio 2: Uso de funciones con estructuras de control\n",
    "\n",
    "- Objetivo: Crear una función que valide si un número es positivo y luego lo sume a otro número.\n",
    "- Descripción: La función sumar_si_es_positivo tomará dos argumentos. Validará si el primer número es positivo. Si es positivo, sumará ambos números; de lo contrario, imprimirá un mensaje de error."
   ]
  },
  {
   "attachments": {},
   "cell_type": "markdown",
   "metadata": {},
   "source": [
    "## Principio DRY (don't repeat yourself)"
   ]
  },
  {
   "attachments": {},
   "cell_type": "markdown",
   "metadata": {},
   "source": [
    "El principio DRY (Don't Repeat Yourself) es un concepto fundamental en la programación que se enfoca en reducir la repetición de información o código. En el contexto de las funciones en Python, aplicar DRY significa crear funciones que encapsulen comportamientos que se repiten, en lugar de escribir el mismo código una y otra vez. Esto mejora la legibilidad, facilita el mantenimiento y reduce la probabilidad de errores."
   ]
  },
  {
   "attachments": {},
   "cell_type": "markdown",
   "metadata": {},
   "source": [
    "### Ejemplo que no Aplica DRY\n",
    "Supongamos que queremos calcular el área de tres rectángulos diferentes. Sin aplicar DRY, podríamos hacer algo así:"
   ]
  },
  {
   "cell_type": "code",
   "execution_count": null,
   "metadata": {},
   "outputs": [],
   "source": [
    "# Cálculo del área del primer rectángulo\n",
    "largo1 = 5\n",
    "ancho1 = 10\n",
    "area1 = largo1 * ancho1\n",
    "print(\"El área del primer rectángulo es:\", area1)\n",
    "\n",
    "# Cálculo del área del segundo rectángulo\n",
    "largo2 = 7\n",
    "ancho2 = 3\n",
    "area2 = largo2 * ancho2\n",
    "print(\"El área del segundo rectángulo es:\", area2)\n",
    "\n",
    "# Cálculo del área del tercer rectángulo\n",
    "largo3 = 6\n",
    "ancho3 = 2\n",
    "area3 = largo3 * ancho3\n",
    "print(\"El área del tercer rectángulo es:\", area3)"
   ]
  },
  {
   "attachments": {},
   "cell_type": "markdown",
   "metadata": {},
   "source": [
    "### Aplicando DRY con Funciones\n",
    "Para mejorar el código anterior y aplicar el principio DRY, podemos definir una función para calcular el área de un rectángulo:"
   ]
  },
  {
   "cell_type": "code",
   "execution_count": null,
   "metadata": {},
   "outputs": [],
   "source": [
    "def calcular_area_rectangulo(largo, ancho):\n",
    "    return largo * ancho\n",
    "\n",
    "# Usando la función para calcular el área de los rectángulos\n",
    "area1 = calcular_area_rectangulo(5, 10)\n",
    "print(\"El área del primer rectángulo es:\", area1)\n",
    "\n",
    "area2 = calcular_area_rectangulo(7, 3)\n",
    "print(\"El área del segundo rectángulo es:\", area2)\n",
    "\n",
    "area3 = calcular_area_rectangulo(6, 2)\n",
    "print(\"El área del tercer rectángulo es:\", area3)"
   ]
  },
  {
   "attachments": {},
   "cell_type": "markdown",
   "metadata": {},
   "source": [
    "## Optimizando código "
   ]
  },
  {
   "attachments": {},
   "cell_type": "markdown",
   "metadata": {},
   "source": [
    "Crear funciones en un archivo separado y luego importarlas en otro archivo es una práctica común en Python que facilita la organización del código, la reutilización y el mantenimiento. Este enfoque también ayuda a mantener el código limpio y modular. A continuación, detallo cómo hacerlo:\n",
    "\n"
   ]
  },
  {
   "attachments": {},
   "cell_type": "markdown",
   "metadata": {},
   "source": [
    "### Creación de un Módulo con Funciones:\n",
    "\n",
    "- Un módulo en Python es simplemente un archivo con extensión .py que contiene definiciones y declaraciones de Python.\n",
    "- Para crear un módulo, escribes tus funciones en un archivo .py.\n",
    "- Por ejemplo, puedes tener un archivo mis_funciones.py con varias funciones definidas en él.\n",
    "### Importación de Funciones del Módulo:\n",
    "\n",
    "- Para usar las funciones definidas en tu módulo, debes importarlas en otro archivo de Python.\n",
    "- Puedes importar el módulo completo usando import mis_funciones o importar funciones específicas usando from mis_funciones import funcion1, funcion2.\n",
    "- Después de importar, puedes usar las funciones como si estuvieran definidas en el mismo archivo."
   ]
  },
  {
   "attachments": {},
   "cell_type": "markdown",
   "metadata": {},
   "source": [
    "### Ejemplo Práctico\n",
    "Paso 1: Creación del Módulo\n",
    "\n",
    "Imagina que tienes un archivo llamado mis_funciones.py con el siguiente contenido:\n",
    "\n"
   ]
  },
  {
   "cell_type": "code",
   "execution_count": null,
   "metadata": {},
   "outputs": [],
   "source": [
    "# mis_funciones.py\n",
    "\n",
    "def sumar(a, b):\n",
    "    return a + b\n",
    "\n",
    "def restar(a, b):\n",
    "    return a - b\n",
    "\n",
    "def saludar(nombre):\n",
    "    print(f\"Hola, {nombre}!\")"
   ]
  },
  {
   "attachments": {},
   "cell_type": "markdown",
   "metadata": {},
   "source": [
    "En este ejemplo, principal.py importa las funciones sumar y saludar del módulo mis_funciones.py. Luego, utiliza estas funciones para realizar una suma y saludar."
   ]
  },
  {
   "attachments": {},
   "cell_type": "markdown",
   "metadata": {},
   "source": [
    "### Consideraciones Importantes:\n",
    "\n",
    "- Ubicación de Archivos: Para que la importación funcione, ambos archivos deben estar en el mismo directorio, o mis_funciones.py debe estar en un lugar donde Python pueda encontrarlo (como en el PYTHONPATH).\n",
    "- Importación Selectiva: Usar from mis_funciones import ... permite importar solo las funciones específicas que necesitas, lo cual es útil si el módulo contiene muchas funciones.\n",
    "- Importación Completa: Si prefieres tener acceso a todas las funciones del módulo, puedes usar import mis_funciones y llamar a las funciones con la notación de punto (por ejemplo, mis_funciones.sumar(5, 3)).\n",
    "- Este método de trabajar con funciones en módulos separados es una excelente manera de mantener tu código Python organizado y facilitar la reutilización del código en diferentes partes de tu proyecto o incluso en proyectos futuros."
   ]
  },
  {
   "attachments": {},
   "cell_type": "markdown",
   "metadata": {},
   "source": [
    "## Escenario: Cálculo de Primas de Seguros\n",
    "Problema: Se necesita un programa para calcular las primas de seguros de vida de varios clientes basándose en su edad y condiciones de salud. Las primas varían según el rango de edad y factores de riesgo.\n",
    "\n",
    "### Criterios:\n",
    "\n",
    "- Edad 18-30: prima base.\n",
    "- Edad 31-50: prima base + 20%.\n",
    "- Edad 51 o más: prima base + 50%.\n",
    "- Si el cliente es fumador, añadir 30% adicional a la prima.\n",
    "- Si el cliente tiene enfermedades preexistentes, añadir 15% adicional a la prima."
   ]
  },
  {
   "attachments": {},
   "cell_type": "markdown",
   "metadata": {},
   "source": [
    "\n",
    "### Paso 1: Creación del Módulo con Funciones\n",
    "\n",
    "Archivo: calculo_primas.py"
   ]
  },
  {
   "cell_type": "code",
   "execution_count": null,
   "metadata": {},
   "outputs": [],
   "source": [
    "def calcular_prima_base(edad, es_fumador, tiene_enfermedades):\n",
    "    prima_base = 1000  # Valor base de la prima, por ejemplo\n",
    "\n",
    "    # Ajuste de la prima por edad\n",
    "    if edad <= 30:\n",
    "        prima = prima_base\n",
    "    elif edad <= 50:\n",
    "        prima = prima_base * 1.20\n",
    "    else:\n",
    "        prima = prima_base * 1.50\n",
    "\n",
    "    # Ajuste por ser fumador\n",
    "    if es_fumador:\n",
    "        prima *= 1.30\n",
    "\n",
    "    # Ajuste por enfermedades preexistentes\n",
    "    if tiene_enfermedades:\n",
    "        prima *= 1.15\n",
    "\n",
    "    return prima"
   ]
  },
  {
   "attachments": {},
   "cell_type": "markdown",
   "metadata": {},
   "source": [
    "### Paso 2: Uso de las Funciones en el Programa Principal"
   ]
  },
  {
   "cell_type": "code",
   "execution_count": null,
   "metadata": {},
   "outputs": [],
   "source": [
    "from calculo_primas import calcular_prima_base\n",
    "\n",
    "clientes = [\n",
    "    {\"edad\": 25, \"fumador\": False, \"enfermedades\": False},\n",
    "    {\"edad\": 45, \"fumador\": True, \"enfermedades\": False},\n",
    "    {\"edad\": 60, \"fumador\": False, \"enfermedades\": True},\n",
    "    # ... más clientes\n",
    "]\n",
    "\n",
    "for cliente in clientes:\n",
    "    prima = calcular_prima_base(cliente[\"edad\"], cliente[\"fumador\"], cliente[\"enfermedades\"])\n",
    "    print(f\"Prima para cliente de {cliente['edad']} años: ${prima}\")\n",
    "\n",
    "    # Ejemplo de uso de 'continue' y 'break'\n",
    "    if prima > 2000:\n",
    "        print(\"Prima muy alta, revisar caso.\")\n",
    "        continue  # Procesa al siguiente cliente\n",
    "    if cliente[\"edad\"] > 80:\n",
    "        print(\"Edad fuera del rango de cobertura.\")\n",
    "        break  # Termina el bucle\n"
   ]
  },
  {
   "attachments": {},
   "cell_type": "markdown",
   "metadata": {},
   "source": [
    "## Escenario: Evaluación de Riesgo para Seguros de Automóvil\n",
    "### Problema: Desarrollar un sistema para evaluar el riesgo de clientes potenciales y calcular las primas de seguros de automóvil. Las primas se basarán en la edad del conductor, el historial de manejo, el tipo de vehículo y la zona de residencia.\n",
    "\n",
    "### Criterios:\n",
    "\n",
    "#### Edad del Conductor:\n",
    "- Menor de 25 años: riesgo alto.\n",
    "- Entre 25 y 60 años: riesgo medio.\n",
    "- Mayor de 60 años: riesgo alto.\n",
    "- Historial de Manejo (accidentes en los últimos 5 años):\n",
    "- 0 accidentes: sin ajuste.\n",
    "- 1-2 accidentes: incremento del 15%.\n",
    "- 3 o más accidentes: incremento del 30%.\n",
    "#### Tipo de Vehículo:\n",
    "- Económico: sin ajuste.\n",
    "- De Lujo: incremento del 20%.\n",
    "- Zona de Residencia:\n",
    "- Urbana: incremento del 10%.\n",
    "- Rural: sin ajuste."
   ]
  },
  {
   "attachments": {},
   "cell_type": "markdown",
   "metadata": {},
   "source": [
    "### Paso 1: Creación del Módulo con Funciones"
   ]
  },
  {
   "cell_type": "code",
   "execution_count": 10,
   "metadata": {},
   "outputs": [],
   "source": [
    "def calcular_prima(edad, accidentes, tipo_vehiculo, zona_residencia):\n",
    "    prima_base = 500  # Valor base de la prima\n",
    "\n",
    "    # Ajuste de prima por edad\n",
    "    if edad < 25 or edad > 60:\n",
    "        prima_base *= 1.20  # Riesgo alto\n",
    "    else:\n",
    "        prima_base *= 1.10  # Riesgo medio\n",
    "\n",
    "    # Ajuste por historial de manejo\n",
    "    if accidentes == 0:\n",
    "        pass  # Sin ajuste\n",
    "    elif accidentes <= 2:\n",
    "        prima_base *= 1.15\n",
    "    else:\n",
    "        prima_base *= 1.30\n",
    "\n",
    "    # Ajuste por tipo de vehículo\n",
    "    if tipo_vehiculo == \"De Lujo\":\n",
    "        prima_base *= 1.20\n",
    "\n",
    "    # Ajuste por zona de residencia\n",
    "    if zona_residencia == \"Urbana\":\n",
    "        prima_base *= 1.10\n",
    "\n",
    "    return prima_base\n"
   ]
  },
  {
   "attachments": {},
   "cell_type": "markdown",
   "metadata": {},
   "source": [
    "### Paso 2: Uso de las Funciones en el Programa Principal"
   ]
  },
  {
   "cell_type": "code",
   "execution_count": null,
   "metadata": {},
   "outputs": [],
   "source": [
    "from calculo_seguro_auto import calcular_prima\n",
    "\n",
    "clientes = [\n",
    "    {\"edad\": 24, \"accidentes\": 1, \"vehiculo\": \"Económico\", \"zona\": \"Urbana\"},\n",
    "    {\"edad\": 35, \"accidentes\": 0, \"vehiculo\": \"De Lujo\", \"zona\": \"Rural\"},\n",
    "    {\"edad\": 42, \"accidentes\": 3, \"vehiculo\": \"Económico\", \"zona\": \"Urbana\"},\n",
    "    # ... más clientes\n",
    "]\n",
    "\n",
    "for cliente in clientes:\n",
    "    prima = calcular_prima(cliente[\"edad\"], cliente[\"accidentes\"], cliente[\"vehiculo\"], cliente[\"zona\"])\n",
    "    print(f\"Cliente de {cliente['edad']} años, prima calculada: ${prima:.2f}\")\n",
    "\n",
    "    if prima > 1000:\n",
    "        print(\"Revisar política de seguro, prima muy alta.\")\n"
   ]
  },
  {
   "attachments": {},
   "cell_type": "markdown",
   "metadata": {},
   "source": [
    "## Escenario: Cálculo de Reservas y Evaluación de Riesgos en Seguros de Salud\n",
    "### Problema: Desarrollar un sistema para calcular las reservas necesarias y evaluar los riesgos asociados a los asegurados de una compañía de seguros de salud. Se deben considerar factores como la edad de los asegurados, sus condiciones de salud preexistentes y el historial de reclamaciones.\n",
    "\n",
    "### Criterios:\n",
    "\n",
    "#### Reservas Basadas en Edad:\n",
    "- Menor de 30 años: reserva base.\n",
    "- Entre 30 y 60 años: reserva base + 30%.\n",
    "- Mayor de 60 años: reserva base + 50%.\n",
    "#### Ajuste por Condiciones de Salud Preexistentes:\n",
    "- Sin condiciones: sin ajuste.\n",
    "- Condiciones menores: incremento del 20%.\n",
    "- Condiciones mayores: incremento del 50%.\n",
    "#### Ajuste por Historial de Reclamaciones:\n",
    "- Sin reclamaciones: descuento del 10%.\n",
    "- 1-2 reclamaciones: sin ajuste.\n",
    "- 3 o más reclamaciones: incremento del 30%."
   ]
  },
  {
   "attachments": {},
   "cell_type": "markdown",
   "metadata": {},
   "source": [
    "### Paso 1: Creación del Módulo con Funciones"
   ]
  },
  {
   "cell_type": "code",
   "execution_count": 11,
   "metadata": {},
   "outputs": [],
   "source": [
    "def calcular_reserva_base(edad):\n",
    "    reserva = 1000  # Valor base de la reserva\n",
    "    if edad < 30:\n",
    "        return reserva\n",
    "    elif edad <= 60:\n",
    "        return reserva * 1.30\n",
    "    else:\n",
    "        return reserva * 1.50\n",
    "\n",
    "def ajuste_por_salud(reserva, condicion_salud):\n",
    "    if condicion_salud == \"Sin condiciones\":\n",
    "        return reserva\n",
    "    elif condicion_salud == \"Condiciones menores\":\n",
    "        return reserva * 1.20\n",
    "    else:  # Condiciones mayores\n",
    "        return reserva * 1.50\n",
    "\n",
    "def ajuste_por_reclamaciones(reserva, numero_reclamaciones):\n",
    "    if numero_reclamaciones == 0:\n",
    "        return reserva * 0.90\n",
    "    elif numero_reclamaciones <= 2:\n",
    "        return reserva\n",
    "    else:\n",
    "        return reserva * 1.30\n",
    "\n",
    "def calcular_reserva_total(edad, condicion_salud, numero_reclamaciones):\n",
    "    reserva = calcular_reserva_base(edad)\n",
    "    reserva = ajuste_por_salud(reserva, condicion_salud)\n",
    "    reserva = ajuste_por_reclamaciones(reserva, numero_reclamaciones)\n",
    "    return reserva\n"
   ]
  },
  {
   "attachments": {},
   "cell_type": "markdown",
   "metadata": {},
   "source": [
    "### Paso 2: Uso de las Funciones en el Programa Principal"
   ]
  },
  {
   "cell_type": "code",
   "execution_count": 12,
   "metadata": {},
   "outputs": [],
   "source": [
    "from calculo_reservas import calcular_reserva_total\n",
    "\n",
    "asegurados = [\n",
    "    {\"edad\": 28, \"salud\": \"Sin condiciones\", \"reclamaciones\": 0},\n",
    "    {\"edad\": 45, \"salud\": \"Condiciones menores\", \"reclamaciones\": 1},\n",
    "    {\"edad\": 70, \"salud\": \"Condiciones mayores\", \"reclamaciones\": 4},\n",
    "    # ... más asegurados\n",
    "]\n",
    "\n",
    "for asegurado in asegurados:\n",
    "    reserva = calcular_reserva_total(asegurado[\"edad\"], asegurado[\"salud\"], asegurado[\"reclamaciones\"])\n",
    "    print(f\"Reserva para asegurado de {asegurado['edad']} años: ${reserva:.2f}\")\n"
   ]
  },
  {
   "cell_type": "markdown",
   "metadata": {},
   "source": []
  }
 ],
 "metadata": {
  "kernelspec": {
   "display_name": "Python 3",
   "language": "python",
   "name": "python3"
  },
  "language_info": {
   "codemirror_mode": {
    "name": "ipython",
    "version": 3
   },
   "file_extension": ".py",
   "mimetype": "text/x-python",
   "name": "python",
   "nbconvert_exporter": "python",
   "pygments_lexer": "ipython3",
   "version": "3.8.9"
  },
  "orig_nbformat": 4
 },
 "nbformat": 4,
 "nbformat_minor": 2
}
