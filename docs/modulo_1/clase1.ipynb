{
 "cells": [
  {
   "cell_type": "markdown",
   "id": "81d78911",
   "metadata": {},
   "source": [
    "# Clase 1: Conceptos Básicos de Python"
   ]
  },
  {
   "attachments": {},
   "cell_type": "markdown",
   "id": "c1ded470",
   "metadata": {},
   "source": [
    "<a href=\"https://colab.research.google.com/github/hizocar/python_andes_analytics/blob/main/docs/modulo_1/clase1.ipynb\" target=\"_parent\"><img src=\"https://colab.research.google.com/assets/colab-badge.svg\" alt=\"Open In Colab\"/></a>"
   ]
  },
  {
   "attachments": {},
   "cell_type": "markdown",
   "id": "532a8025",
   "metadata": {},
   "source": [
    "## Introducción al lenguaje de programación Python\n",
    "\n",
    "\n",
    "Python es un lenguaje de programación de alto nivel, interpretado, y con una sintaxis muy legible. Es ampliamente utilizado para la programación web, análisis de datos, inteligencia artificial, y más."
   ]
  },
  {
   "cell_type": "markdown",
   "id": "675c9e23",
   "metadata": {},
   "source": [
    "## Instalación y configuración del entorno de desarrollo usando Colab\n",
    "Google Colab es una plataforma que permite escribir y ejecutar código Python en el navegador. Es ideal para aprendizaje, prototipado y colaboración en línea.\n",
    "\n",
    "### Pasos para configurar Colab:\n",
    "\n",
    "1. Visitar [Google Colab](https://colab.research.google.com/).\n",
    "2. Iniciar sesión con una cuenta de Google.\n",
    "3. Crear un nuevo notebook.\n",
    "4. Escribir y ejecutar código Python directamente en las celdas del notebook."
   ]
  },
  {
   "attachments": {},
   "cell_type": "markdown",
   "id": "3f0fdd59",
   "metadata": {},
   "source": [
    "## Sintaxis Básica: Variables, Tipos de Datos y Operadores\n",
    "\n",
    "### Variables\n",
    "\n",
    "En Python, una variable se crea en el momento en que le asignas un valor\n"
   ]
  },
  {
   "cell_type": "code",
   "execution_count": 13,
   "id": "811b9ff0",
   "metadata": {},
   "outputs": [],
   "source": [
    "x = 5\n",
    "nombre = \"Alice\""
   ]
  },
  {
   "attachments": {},
   "cell_type": "markdown",
   "id": "f210b036",
   "metadata": {},
   "source": [
    "### Tipos de Datos\n",
    "\n",
    "Python tiene varios tipos de datos incorporados, como números, texto, listas, etc."
   ]
  },
  {
   "attachments": {},
   "cell_type": "markdown",
   "id": "1b954fd2",
   "metadata": {},
   "source": [
    "1. Números\n",
    "Python admite varios tipos de números:\n",
    "\n",
    "Enteros (int): Son números sin parte decimal. Pueden ser positivos o negativos."
   ]
  },
  {
   "cell_type": "code",
   "execution_count": 1,
   "id": "679483c2",
   "metadata": {},
   "outputs": [],
   "source": [
    "entero = 10\n",
    "negativo = -5"
   ]
  },
  {
   "attachments": {},
   "cell_type": "markdown",
   "id": "abee2ece",
   "metadata": {},
   "source": [
    "Números de punto flotante (float): Son números que contienen una parte decimal. Pueden ser positivos o negativos."
   ]
  },
  {
   "cell_type": "code",
   "execution_count": 2,
   "id": "90dafcef",
   "metadata": {},
   "outputs": [],
   "source": [
    "flotante = 10.5\n",
    "negativo_flotante = -3.14159"
   ]
  },
  {
   "attachments": {},
   "cell_type": "markdown",
   "id": "5f36dedc",
   "metadata": {},
   "source": [
    "Números complejos (complex): Son números con una parte real y una parte imaginaria."
   ]
  },
  {
   "cell_type": "code",
   "execution_count": 3,
   "id": "c1d7afdd",
   "metadata": {},
   "outputs": [],
   "source": [
    "complejo = 3 + 4j"
   ]
  },
  {
   "attachments": {},
   "cell_type": "markdown",
   "id": "869bbdfd",
   "metadata": {},
   "source": [
    "2. Secuencias\n",
    "Hay varios tipos de secuencias en Python, pero las más comunes son:"
   ]
  },
  {
   "attachments": {},
   "cell_type": "markdown",
   "id": "94332166",
   "metadata": {},
   "source": [
    "Listas (list): Son colecciones ordenadas y mutables. Pueden contener diferentes tipos de elementos."
   ]
  },
  {
   "cell_type": "code",
   "execution_count": 4,
   "id": "334a278c",
   "metadata": {},
   "outputs": [],
   "source": [
    "lista = [1, 2, 3, \"Python\", 5.5]"
   ]
  },
  {
   "attachments": {},
   "cell_type": "markdown",
   "id": "216168d1",
   "metadata": {},
   "source": [
    "Tuplas (tuple): Son colecciones ordenadas e inmutables. Al igual que las listas, pueden contener diferentes tipos de elementos."
   ]
  },
  {
   "cell_type": "code",
   "execution_count": 5,
   "id": "1d6b56bf",
   "metadata": {},
   "outputs": [],
   "source": [
    "tupla = (1, \"Hola\", 3.14)"
   ]
  },
  {
   "attachments": {},
   "cell_type": "markdown",
   "id": "164caa45",
   "metadata": {},
   "source": [
    "Rangos (range): Representan una secuencia de números y se utilizan comúnmente para bucles."
   ]
  },
  {
   "cell_type": "code",
   "execution_count": 6,
   "id": "0306465e",
   "metadata": {},
   "outputs": [],
   "source": [
    "rango = range(1, 10)  # Genera números del 1 al 9"
   ]
  },
  {
   "attachments": {},
   "cell_type": "markdown",
   "id": "2afe683f",
   "metadata": {},
   "source": [
    "3. Texto\n",
    "Cadenas de texto (str): Representan texto o cadenas de caracteres."
   ]
  },
  {
   "cell_type": "code",
   "execution_count": 7,
   "id": "b7977c7f",
   "metadata": {},
   "outputs": [],
   "source": [
    "\n",
    "cadena = \"Hola, mundo!\""
   ]
  },
  {
   "attachments": {},
   "cell_type": "markdown",
   "id": "e4da09a8",
   "metadata": {},
   "source": [
    "4. Conjuntos\n",
    "Conjuntos (set): Son colecciones no ordenadas y sin elementos duplicados."
   ]
  },
  {
   "cell_type": "code",
   "execution_count": 8,
   "id": "ddd6f267",
   "metadata": {},
   "outputs": [],
   "source": [
    "conjunto = {1, 2, 3, 4, 5}"
   ]
  },
  {
   "attachments": {},
   "cell_type": "markdown",
   "id": "1e21dfd1",
   "metadata": {},
   "source": [
    "Conjuntos inmutables (frozenset): Son similares a los conjuntos, pero no pueden modificarse después de su creación."
   ]
  },
  {
   "cell_type": "code",
   "execution_count": 9,
   "id": "5f8f7377",
   "metadata": {},
   "outputs": [],
   "source": [
    "conjunto_inmutable = frozenset([1, 2, 3])"
   ]
  },
  {
   "attachments": {},
   "cell_type": "markdown",
   "id": "b0e99239",
   "metadata": {},
   "source": [
    "5. Mapeos"
   ]
  },
  {
   "attachments": {},
   "cell_type": "markdown",
   "id": "d9e729a0",
   "metadata": {},
   "source": [
    "Diccionarios (dict): Son colecciones no ordenadas de pares clave-valor."
   ]
  },
  {
   "cell_type": "code",
   "execution_count": 10,
   "id": "bc933cc9",
   "metadata": {},
   "outputs": [],
   "source": [
    "diccionario = {\"nombre\": \"Alice\", \"edad\": 25, \"idioma\": \"Español\"}"
   ]
  },
  {
   "attachments": {},
   "cell_type": "markdown",
   "id": "a45450dd",
   "metadata": {},
   "source": [
    "6. Booleanos"
   ]
  },
  {
   "attachments": {},
   "cell_type": "markdown",
   "id": "3975802e",
   "metadata": {},
   "source": [
    "Booleanos (bool): Representan dos valores: True o False."
   ]
  },
  {
   "cell_type": "code",
   "execution_count": 11,
   "id": "eb7b8aa7",
   "metadata": {},
   "outputs": [],
   "source": [
    "verdadero = True\n",
    "falso = False"
   ]
  },
  {
   "attachments": {},
   "cell_type": "markdown",
   "id": "9c8c9a1e",
   "metadata": {},
   "source": [
    "7. None\n",
    "None: Es un tipo especial que representa la ausencia de un valor o un valor nulo."
   ]
  },
  {
   "cell_type": "code",
   "execution_count": 12,
   "id": "49c1995b",
   "metadata": {},
   "outputs": [],
   "source": [
    "sin_valor = None"
   ]
  },
  {
   "attachments": {},
   "cell_type": "markdown",
   "id": "cb2882cb",
   "metadata": {},
   "source": [
    "### Operadores\n",
    "\n",
    "Los operadores permiten realizar operaciones sobre variables y valores.\n",
    "\n",
    "- Operadores aritméticos: +, -, *, /\n",
    "- Operadores de comparación: ==, !=, >, <\n",
    "- Operadores lógicos: and, or, not"
   ]
  },
  {
   "cell_type": "code",
   "execution_count": 14,
   "id": "82789487",
   "metadata": {},
   "outputs": [],
   "source": [
    "\n",
    "# Aritméticos\n",
    "suma = 5 + 3\n",
    "resta = 5 - 3\n",
    "\n",
    "# Comparación\n",
    "igual = 5 == 3\n",
    "diferente = 5 != 3\n",
    "\n",
    "# Lógicos\n",
    "y = True and False\n",
    "o = True or False\n"
   ]
  },
  {
   "attachments": {},
   "cell_type": "markdown",
   "id": "af44c24e",
   "metadata": {},
   "source": [
    "### Ejemplos con valores numéricos"
   ]
  },
  {
   "cell_type": "code",
   "execution_count": 16,
   "id": "bf7af2fd",
   "metadata": {},
   "outputs": [
    {
     "name": "stdout",
     "output_type": "stream",
     "text": [
      "8\n",
      "4\n",
      "15\n",
      "0.6\n",
      "2\n",
      "3\n",
      "8\n"
     ]
    }
   ],
   "source": [
    "print(3+5)\n",
    "print(7-3)\n",
    "print(3*5)\n",
    "print(3/5)\n",
    "print(9//4)\n",
    "print(15%6)\n",
    "print(2**3)"
   ]
  },
  {
   "attachments": {},
   "cell_type": "markdown",
   "id": "6f18e730",
   "metadata": {},
   "source": [
    "### Ejemplos con texto"
   ]
  },
  {
   "cell_type": "code",
   "execution_count": 19,
   "id": "b2b66a28",
   "metadata": {},
   "outputs": [
    {
     "name": "stdout",
     "output_type": "stream",
     "text": [
      "CarlosSantana\n",
      "Carlos Santana\n",
      "1523\n",
      "CarlosCarlosCarlos\n",
      "1212121212\n",
      "3\n",
      "SANTANA\n",
      "14\n"
     ]
    }
   ],
   "source": [
    "print(\"Carlos\"+\"Santana\")\n",
    "print(\"Carlos \"+\"Santana\")\n",
    "print(\"15\"+\"23\")\n",
    "print(3 *\"Carlos\")\n",
    "print(5 *\"12\")\n",
    "print (\"Santana\".count(\"a\"))\n",
    "print(\"Santana\".upper())\n",
    "print(len(\"Carlos Santana\"))"
   ]
  },
  {
   "attachments": {},
   "cell_type": "markdown",
   "id": "02a0d006",
   "metadata": {},
   "source": [
    "### Errores con operaciones: \n",
    "\n",
    "Es importante mencionar que las listas no exigen que todos sus elementos sean del mismo tipo, lo que\n",
    "puede generar un error al aplicar funciones que operan sobre datos numéricos:"
   ]
  },
  {
   "cell_type": "code",
   "execution_count": 15,
   "id": "70683f29",
   "metadata": {},
   "outputs": [
    {
     "ename": "SyntaxError",
     "evalue": "f-string: single '}' is not allowed (2814600255.py, line 3)",
     "output_type": "error",
     "traceback": [
      "\u001b[0;36m  Cell \u001b[0;32mIn[15], line 3\u001b[0;36m\u001b[0m\n\u001b[0;31m    print(f\"El número mayor es (mayor}\")\u001b[0m\n\u001b[0m          ^\u001b[0m\n\u001b[0;31mSyntaxError\u001b[0m\u001b[0;31m:\u001b[0m f-string: single '}' is not allowed\n"
     ]
    }
   ],
   "source": [
    "lista = [3,7,2,8,1,4, \"perro\"]\n",
    "mayor = max(lista)\n",
    "print(f\"El número mayor es (mayor}\")"
   ]
  },
  {
   "attachments": {},
   "cell_type": "markdown",
   "id": "4a95a70e",
   "metadata": {},
   "source": []
  },
  {
   "attachments": {},
   "cell_type": "markdown",
   "id": "4de12f09",
   "metadata": {},
   "source": [
    "### Ejercicio 1: Vendedor\n"
   ]
  },
  {
   "cell_type": "code",
   "execution_count": 26,
   "id": "8bf640c9",
   "metadata": {},
   "outputs": [
    {
     "name": "stdout",
     "output_type": "stream",
     "text": [
      "El precio final es 34.0\n"
     ]
    }
   ],
   "source": [
    "# Ejercicio del vendedor\n",
    "#1. Definición de variables\n",
    "precio_producto = 10\n",
    "descuento = 0.15\n",
    "#2. SoLicitud de información\n",
    "cantidad = int(input(\"¿Cuántos productos quieres comprar?\"))\n",
    "# 3. Cálculo del precio final\n",
    "precio_final = precio_producto * cantidad * (1 - descuento)\n",
    "#4. Imprimiendo resultados\n",
    "print(\"El precio final es\", precio_final)"
   ]
  },
  {
   "attachments": {},
   "cell_type": "markdown",
   "id": "302ddfe9",
   "metadata": {},
   "source": [
    "## Librerias"
   ]
  },
  {
   "attachments": {},
   "cell_type": "markdown",
   "id": "aca28a2a",
   "metadata": {},
   "source": [
    "\n",
    "En Python, las librerías son conjuntos de módulos y funciones predefinidos que se pueden importar en un\n",
    "programa para agregar funcionalidades adicionales.\n",
    "Para importar una librería en Python, se utiliza la palabra clave import seguida del nombre de la librería:"
   ]
  },
  {
   "cell_type": "code",
   "execution_count": 28,
   "id": "65c54488",
   "metadata": {},
   "outputs": [
    {
     "name": "stdout",
     "output_type": "stream",
     "text": [
      "El número generado es 2\n"
     ]
    }
   ],
   "source": [
    "import random\n",
    "num_aleatorio = random.randint(1,10)\n",
    "print (f\"El número generado es {num_aleatorio}\")"
   ]
  },
  {
   "attachments": {},
   "cell_type": "markdown",
   "id": "751e55d4",
   "metadata": {},
   "source": []
  }
 ],
 "metadata": {
  "kernelspec": {
   "display_name": "Python 3",
   "language": "python",
   "name": "python3"
  },
  "language_info": {
   "codemirror_mode": {
    "name": "ipython",
    "version": 3
   },
   "file_extension": ".py",
   "mimetype": "text/x-python",
   "name": "python",
   "nbconvert_exporter": "python",
   "pygments_lexer": "ipython3",
   "version": "3.8.9"
  }
 },
 "nbformat": 4,
 "nbformat_minor": 5
}
