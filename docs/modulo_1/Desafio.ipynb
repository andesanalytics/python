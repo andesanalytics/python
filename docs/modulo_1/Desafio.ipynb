{
 "cells": [
  {
   "attachments": {},
   "cell_type": "markdown",
   "metadata": {},
   "source": [
    "# Proyecto: Sistema Avanzado de Cálculo de Primas de Seguros\n",
    "\n",
    "### Objetivo: \n",
    "Desarrollar un sistema en Python para calcular y analizar primas de seguros de vida, utilizando un conjunto de datos de clientes y aplicando conceptos avanzados de programación.\n",
    "\n",
    "### Datos de Entrada:\n",
    " Un diccionario llamado clientes que contiene información de 50 clientes. Cada cliente tiene un ID único y un diccionario de atributos como edad, género, estado de salud, ocupación, y otros factores de riesgo.\n",
    "\n",
    "Diccionario de Clientes (Ejemplo de Estructura):"
   ]
  },
  {
   "cell_type": "code",
   "execution_count": 1,
   "metadata": {},
   "outputs": [],
   "source": [
    "clientes = {\n",
    "    \"ID001\": {\"edad\": 30, \"género\": \"F\", \"salud\": \"buena\", \"ocupación\": \"ingeniero\", \"fumador\": False, \"riesgo_deportes\": False},\n",
    "    \"ID002\": {\"edad\": 45, \"género\": \"M\", \"salud\": \"moderada\", \"ocupación\": \"constructor\", \"fumador\": True, \"riesgo_deportes\": True},\n",
    "    \"ID003\": {\"edad\": 29, \"género\": \"F\", \"salud\": \"buena\", \"ocupación\": \"médico\", \"fumador\": False, \"riesgo_deportes\": True},\n",
    "    \"ID004\": {\"edad\": 50, \"género\": \"M\", \"salud\": \"mala\", \"ocupación\": \"abogado\", \"fumador\": True, \"riesgo_deportes\": False},\n",
    "    \"ID005\": {\"edad\": \"N/A\", \"género\": \"F\", \"salud\": \"buena\", \"ocupación\": \"artista\", \"fumador\": False, \"riesgo_deportes\": False},\n",
    "    \"ID006\": {\"edad\": 42, \"género\": \"M\", \"salud\": \"moderada\", \"ocupación\": \"ingeniero\", \"fumador\": False, \"riesgo_deportes\": True},\n",
    "    \"ID007\": {\"edad\": 36, \"género\": \"F\", \"salud\": \"mala\", \"ocupación\": \"profesor\", \"fumador\": True, \"riesgo_deportes\": False},\n",
    "    \"ID008\": {\"edad\": 28, \"género\": \"M\", \"salud\": \"buena\", \"ocupación\": \"científico\", \"fumador\": False, \"riesgo_deportes\": True},\n",
    "    \"ID009\": {\"edad\": 52, \"género\": \"F\", \"salud\": \"mala\", \"ocupación\": \"constructor\", \"fumador\": True, \"riesgo_deportes\": False},\n",
    "    \"ID010\": {\"edad\": 39, \"género\": \"M\", \"salud\": \"moderada\", \"ocupación\": \"abogado\", \"fumador\": False, \"riesgo_deportes\": False},\n",
    "    \"ID011\": {\"edad\": 25, \"género\": \"F\", \"salud\": \"buena\", \"ocupación\": \"médico\", \"fumador\": False, \"riesgo_deportes\": True},\n",
    "    \"ID012\": {\"edad\": 47, \"género\": \"M\", \"salud\": \"mala\", \"ocupación\": \"artista\", \"fumador\": True, \"riesgo_deportes\": True},\n",
    "    \"ID013\": {\"edad\": 34, \"género\": \"F\", \"salud\": \"moderada\", \"ocupación\": \"ingeniero\", \"fumador\": False, \"riesgo_deportes\": False},\n",
    "    \"ID014\": {\"edad\": 31, \"género\": \"M\", \"salud\": \"buena\", \"ocupación\": \"profesor\", \"fumador\": False, \"riesgo_deportes\": True},\n",
    "    \"ID015\": {\"edad\": \"N/A\", \"género\": \"F\", \"salud\": \"buena\", \"ocupación\": \"científico\", \"fumador\": False, \"riesgo_deportes\": False},\n",
    "    \"ID016\": {\"edad\": 43, \"género\": \"M\", \"salud\": \"moderada\", \"ocupación\": \"constructor\", \"fumador\": True, \"riesgo_deportes\": True},\n",
    "    \"ID017\": {\"edad\": 37, \"género\": \"F\", \"salud\": \"mala\", \"ocupación\": \"médico\", \"fumador\": True, \"riesgo_deportes\": False},\n",
    "    \"ID018\": {\"edad\": 26, \"género\": \"M\", \"salud\": \"buena\", \"ocupación\": \"abogado\", \"fumador\": False, \"riesgo_deportes\": True} }\n"
   ]
  },
  {
   "attachments": {},
   "cell_type": "markdown",
   "metadata": {},
   "source": [
    "## Criterios para el Cálculo de la Prima\n",
    "\n",
    "### Edad:\n",
    "\n",
    "- Menos de 30 años: multiplicador de 1.0\n",
    "- De 30 a 45 años: multiplicador de 1.2\n",
    "- De 46 a 60 años: multiplicador de 1.5\n",
    "- Más de 60 años: multiplicador de 1.8\n",
    "- Si la edad es \"N/A\" o no válida, lanzar una excepción o asignar un valor predeterminado.\n",
    "\n",
    "### Género:\n",
    "\n",
    "- Femenino: multiplicador de 0.95\n",
    "- Masculino: multiplicador de 1.05\n",
    "\n",
    "### Estado de Salud:\n",
    "\n",
    "- Buena: multiplicador de 0.9\n",
    "- Moderada: multiplicador de 1.0\n",
    "- Mala: multiplicador de 1.3\n",
    "\n",
    "### Ocupación: (Suponiendo que algunas ocupaciones implican más riesgos)\n",
    "\n",
    "- Trabajos de oficina (ej. ingeniero, profesor, científico): multiplicador de 1.0\n",
    "- Trabajos físicos o de alto riesgo (ej. constructor, piloto, chef): multiplicador de 1.2\n",
    "\n",
    "### Fumador:\n",
    "\n",
    "- No fumador: multiplicador de 1.0\n",
    "- Fumador: multiplicador de 1.3\n",
    "### Práctica de Deportes de Riesgo:\n",
    "\n",
    "- No practica: multiplicador de 1.0\n",
    "- Practica: multiplicador de 1.5\n",
    "- Fórmula para el Cálculo de la Prima\n",
    "\n",
    "### **Considere la prima base de 500 puntos**"
   ]
  },
  {
   "attachments": {},
   "cell_type": "markdown",
   "metadata": {},
   "source": [
    "## Desarrollo: \n",
    "\n",
    "- Cree una función para calcular la prima en base a los criterios mencionados. Debe contener control de errores para valores extraños en los clientes, para cada criterio\n",
    "\n",
    "- Ejecute la función para cada cliente usando un ciclo, de encontrar un error no muestre la prima, muestre el mensaje correspondiente y continue con el resto de clientes\n",
    "\n",
    "- La función debe estar en un modulo aparte, en su código debe importar la función"
   ]
  },
  {
   "attachments": {},
   "cell_type": "markdown",
   "metadata": {},
   "source": [
    "### Rúbrica Detallada para la Evaluación del Proyecto de Cálculo de Primas de Seguros\n",
    "\n",
    "#### Objetivo:\n",
    "Desarrollar un sistema en Python para calcular las primas de seguros de vida, manejando datos y errores potenciales de manera eficiente.\n",
    "\n",
    "#### Criterios de Evaluación y Niveles:\n",
    "\n",
    "1. **Desarrollo de la Función de Cálculo de Prima (40 puntos):**\n",
    "   - **Nivel Avanzado (31-40 puntos):** La función calcula la prima correctamente según todos los criterios, con un manejo de errores exhaustivo y eficiente para cada criterio.\n",
    "   - **Nivel Intermedio (21-30 puntos):** La función calcula la prima correctamente en la mayoría de los casos, con un manejo de errores adecuado para la mayoría de los criterios.\n",
    "   - **Nivel Básico (10-20 puntos):** La función calcula la prima con algunos errores o carencias en el manejo de errores en varios criterios.\n",
    "\n",
    "2. **Ejecución y Manejo de Errores en el Ciclo (30 puntos):**\n",
    "   - **Nivel Avanzado (21-30 puntos):** La función se ejecuta correctamente para cada cliente, con un manejo de errores óptimo que muestra mensajes claros y continúa sin fallos.\n",
    "   - **Nivel Intermedio (11-20 puntos):** La función se ejecuta correctamente en la mayoría de los casos, pero el manejo de errores es inconsistente o los mensajes no son claros.\n",
    "   - **Nivel Básico (0-10 puntos):** La ejecución presenta fallos en varios casos y el manejo de errores es insuficiente o inexistente.\n",
    "\n",
    "3. **Modularidad y Uso de Importaciones (30 puntos):**\n",
    "   - **Nivel Avanzado (21-30 puntos):** La función está perfectamente modularizada en un módulo separado, y su importación y uso en el código principal son impecables.\n",
    "   - **Nivel Intermedio (11-20 puntos):** Hay cierto grado de modularidad y la función se importa correctamente, pero hay aspectos mejorables en la estructura o uso del módulo.\n",
    "   - **Nivel Básico (0-10 puntos):** La modularidad es deficiente o no se utiliza, y/o hay errores significativos en la importación y uso de la función.\n",
    "\n",
    "#### Puntuación Total: 100 puntos\n",
    "\n",
    "### Notas Adicionales para el Estudiante:\n",
    "- **Claridad y Estructura del Código (No se puntúa, pero es crucial):** El código debe ser claro, bien organizado y comentado.\n",
    "- **Pruebas y Validación (Recomendado):** Se anima a realizar pruebas exhaustivas para validar la precisión y robustez de la función en diferentes escenarios.\n",
    "\n",
    "### Entrega:\n",
    "El proyecto debe ser entregado en forma de archivos `.py` (modulo) y `.ipynb` para el jupyter notebook hasta **viernes 19 enero a las 23:59 hrs**, con una estructura clara y documentación que explique la organización del código. Deben incluirse ejemplos de ejecución y manejo de errores.\n"
   ]
  },
  {
   "cell_type": "code",
   "execution_count": null,
   "metadata": {},
   "outputs": [],
   "source": []
  }
 ],
 "metadata": {
  "kernelspec": {
   "display_name": "Python 3",
   "language": "python",
   "name": "python3"
  },
  "language_info": {
   "codemirror_mode": {
    "name": "ipython",
    "version": 3
   },
   "file_extension": ".py",
   "mimetype": "text/x-python",
   "name": "python",
   "nbconvert_exporter": "python",
   "pygments_lexer": "ipython3",
   "version": "3.8.9"
  },
  "orig_nbformat": 4
 },
 "nbformat": 4,
 "nbformat_minor": 2
}
