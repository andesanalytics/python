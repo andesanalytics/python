{
  "nbformat": 4,
  "nbformat_minor": 0,
  "metadata": {
    "colab": {
      "provenance": []
    },
    "kernelspec": {
      "name": "python3",
      "display_name": "Python 3"
    },
    "language_info": {
      "name": "python"
    }
  },
  "cells": [
    {
      "cell_type": "markdown",
      "source": [
        "# Clase 3: Limpieza de Datos\n",
        "\n",
        "<a href=\"https://colab.research.google.com/github/andesanalytics/python/blob/main/docs/modulo_3/Clase3.ipynb\" target=\"_parent\"><img src=\"https://colab.research.google.com/assets/colab-badge.svg\" alt=\"Open In Colab\"/></a>"
      ],
      "metadata": {
        "id": "pCTwtXJFyoyU"
      }
    },
    {
      "cell_type": "markdown",
      "source": [
        "## **Ejercicio 1:**\n",
        "\n",
        "1. Cargar la BBDD `base_seguros.csv` explora que la BBDD haya quedado correctamente cargada\n"
      ],
      "metadata": {
        "id": "AV2n2k7A2Th3"
      }
    },
    {
      "cell_type": "markdown",
      "source": [
        "2. Tienes un conjunto de datos relacionados con clientes de una compañía de seguros de vida. Examina el DataFrame y observa si hay alguna tendencia general en las edades de los clientes. Intenta identificar si hay grupos de edad específicos que podrían requerir atención especial.\n",
        "\n",
        "\n",
        "\n",
        "\n"
      ],
      "metadata": {
        "id": "51SqiRXPI3U7"
      }
    },
    {
      "cell_type": "markdown",
      "source": [
        "3. En el sector de seguros, la composición de las primas de cobertura es crucial. Analiza la distribución de las primas de cobertura A, B y C para entender cómo se distribuye la carga financiera entre los clientes."
      ],
      "metadata": {
        "id": "JNba3RbpI_2W"
      }
    },
    {
      "cell_type": "markdown",
      "source": [
        "4. Como parte del proceso de evaluación de riesgos, es importante identificar clientes que podrían representar un riesgo más alto para la compañía. Utiliza criterios de edad y duración en la empresa para filtrar clientes potencialmente más riesgosos."
      ],
      "metadata": {
        "id": "-T_uA9mvJUX0"
      }
    },
    {
      "cell_type": "markdown",
      "source": [
        "5. Las primas de seguros pueden variar según la ubicación geográfica. Realiza un análisis comparativo de las edades promedio y las primas de cobertura entre diferentes ciudades para identificar posibles patrones regionales."
      ],
      "metadata": {
        "id": "3dJE4ZZBJeFy"
      }
    },
    {
      "cell_type": "markdown",
      "source": [
        "6. En el mundo de los seguros, las tendencias temporales son fundamentales. Investiga si hay alguna variación en la duración en la empresa a lo largo del tiempo y si esta variación está relacionada con la edad de los clientes.\n"
      ],
      "metadata": {
        "id": "Iapl3Co1JkOZ"
      }
    },
    {
      "cell_type": "markdown",
      "source": [
        "# **Preparación de Datos**\n",
        "\n",
        "La preparación de datos son etapas fundamentales en cualquier proyecto de análisis de datos o aprendizaje automático. En Python, estas tareas se realizan mediante el uso de bibliotecas especializadas como **Pandas y NumPy**.\n",
        "\n",
        "La **preparación de datos** implica la identificación y tratamiento de valores faltantes, duplicados, outliers, errores, transformación de datos, la ingeniería de características y la normalización entre otros.\n",
        "\n",
        "En este contexto, el manejo eficiente de datos desordenados o incompletos es esencial para garantizar la calidad y confiabilidad de los resultados obtenidos en análisis subsiguientes. A través de este proceso, los profesionales de datos pueden asegurarse de que sus conjuntos de datos estén listos para ser utilizados en la construcción de modelos predictivos o en la extracción de información significativa. Algunas herramientas que tenemos en Python para la Preparación de datos son:\n",
        "\n",
        "1. Identificación y Manejo de Valores Nulos:\n",
        "\n",
        "Pandas: La biblioteca pandas proporciona funciones como `isnull()`, `dropna()`, y `fillna()` para identificar, eliminar o rellenar valores nulos en un conjunto de datos.\n",
        "\n",
        "2. Manejo de Valores Duplicados:\n",
        "\n",
        "Pandas: Utiliza el método `drop_duplicates()` para eliminar duplicados basados en columnas específicas o en todo el conjunto de datos.\n",
        "\n",
        "3. Manejo de Outliers:\n",
        "\n",
        "NumPy y Pandas: Utiliza funciones estadísticas para detectar y filtrar outliers. Por ejemplo, puedes calcular el rango intercuartílico (IQR) y filtrar datos fuera de este rango.\n",
        "\n",
        "4. Normalización y Estandarización:\n",
        "\n",
        "`Scikit-learn:` Las clases MinMaxScaler y StandardScaler permiten normalizar y estandarizar datos, respectivamente, para asegurar que todas las variables tengan la misma escala.\n",
        "Transformación de Datos:\n",
        "\n",
        "Pandas: Puedes aplicar funciones y transformaciones a columnas específicas utilizando la función `apply()` o el método `map()`.\n",
        "\n",
        "5. Manejo de Tipos de Datos:\n",
        "\n",
        "Pandas: Utiliza funciones como `astype()` para convertir tipos de datos y `to_datetime()` para manipular fechas y horas."
      ],
      "metadata": {
        "id": "m42OcPyIkOAp"
      }
    },
    {
      "cell_type": "markdown",
      "source": [
        "# **Ejercicio 2:** Identificación y Manejo de Valores Nulos:\n",
        "* Ítem 1\n",
        "1. Carga un conjunto de datos de seguros de vida en formato CSV utilizando Pandas.\n",
        "2. Utiliza la función isnull() para identificar las columnas con valores nulos.\n",
        "3. Emplea fillna() para rellenar los valores nulos con la media de la columna correspondiente."
      ],
      "metadata": {
        "id": "LR-aCDIjvhlJ"
      }
    },
    {
      "cell_type": "markdown",
      "source": [
        "* Ítem 2: Manejo de Valores Duplicados:\n",
        "\n",
        "1. Carga el mismo conjunto de datos y elimina las filas duplicadas utilizando drop_duplicates()."
      ],
      "metadata": {
        "id": "M03Ztui6v8JI"
      }
    },
    {
      "cell_type": "markdown",
      "source": [
        "* Ítem 3: Manejo de Outliers:\n",
        "\n",
        "1. Calcula el rango intercuartílico (IQR) de la columna de primas de seguros de vida.\n",
        "2. Filtra los datos fuera de este rango para eliminar los outliers."
      ],
      "metadata": {
        "id": "NKb_vTq1wI0z"
      }
    },
    {
      "cell_type": "markdown",
      "source": [
        "* Ítem 4: Normalización y Estandarización:\n",
        "\n",
        "1. Utiliza MinMaxScaler y StandardScaler de Scikit-learn para normalizar y estandarizar las primas de seguros de vida."
      ],
      "metadata": {
        "id": "oTaht5ycwOkN"
      }
    },
    {
      "cell_type": "markdown",
      "source": [
        "* Ítem 5: Transformación de Datos:\n",
        "\n",
        "1. Agrega una nueva columna que represente la edad del asegurado a partir de la columna de fecha de nacimiento utilizando Pandas."
      ],
      "metadata": {
        "id": "Z-uHA-OqwVra"
      }
    },
    {
      "cell_type": "markdown",
      "source": [
        "* ítem 6: Manejo de Tipos de Datos:\n",
        "\n",
        "1. Convierte la columna de fecha de nacimiento al tipo de datos datetime utilizando to_datetime()."
      ],
      "metadata": {
        "id": "KYsk9DsjwbJa"
      }
    },
    {
      "cell_type": "markdown",
      "source": [
        "# **Ejercicio 3:** Encuentra las columnas con valores nulos y decide si eliminar esas filas o rellenar los valores nulos con alguna estrategia adecuada (media, mediana, moda, etc.).\n",
        "Manejo de Outliers:\n",
        "\n",
        "Utiliza un método robusto para detectar y filtrar outliers en la columna de edad de los asegurados.\n",
        "Ingeniería de Características:\n",
        "\n",
        "Crea una nueva columna que represente la duración en años desde la emisión de la póliza hasta la fecha actual.\n",
        "Normalización y Estandarización:\n",
        "\n",
        "Normaliza la columna de suma asegurada utilizando MinMaxScaler y estandariza la columna de edad utilizando StandardScaler.\n",
        "Análisis Adicional:\n",
        "\n",
        "Realiza un análisis exploratorio de datos para visualizar la distribución de la suma asegurada y la edad de los asegurados."
      ],
      "metadata": {
        "id": "oAu935JWxdMs"
      }
    }
  ]
}