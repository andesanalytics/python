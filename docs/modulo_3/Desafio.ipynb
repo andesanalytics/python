{
  "nbformat": 4,
  "nbformat_minor": 0,
  "metadata": {
    "colab": {
      "provenance": []
    },
    "kernelspec": {
      "name": "python3",
      "display_name": "Python 3"
    },
    "language_info": {
      "name": "python"
    }
  },
  "cells": [
    {
      "cell_type": "markdown",
      "source": [
        "# Desafío"
      ],
      "metadata": {
        "id": "rUtIYFqoOXiL"
      }
    },
    {
      "cell_type": "markdown",
      "source": [
        "En el mundo automotriz cada vez que se adquiere un vehículo por medio de un crédito automotriz este puede ser adquirido con 6 tipos de seguros:\n",
        "\n",
        "  * Seguro Básico\n",
        "  * Seguro Desgravamen\n",
        "  * Seguro Vida\n",
        "  * Seguro Cesantía\n",
        "  * Multiasistencia\n",
        "  * Seguro Full\n",
        "\n",
        "En este desafio trabajaremos con 3 BBDD diferentes\n",
        "\n",
        "1. Ventas: Contiene la información de los créditos automotriz vendidos por X automotora. Las principales columnas son:\n",
        "\n",
        "  * Id Sitema: Número único para cada crédito.\n",
        "  * Local: Local en el cual se vendió el crédito.\n",
        "  * Fecha Pagaré: Fecha en la cual se vendio el crédito.\n",
        "\n",
        "2. Mto Seguros: Contiene la información del monto del seguro asociado a cada crédito. La columna principal es Id Cotización, esta columna contienen el número único de cada crédito\n",
        "\n",
        "3. Jerarquia: Es una tabla de hechos que asocia cada ejecutivo con el local que atiende."
      ],
      "metadata": {
        "id": "2OOcbFzwOjUQ"
      }
    },
    {
      "cell_type": "markdown",
      "source": [
        "1. Cargar y validar la BBDD (la validación debe ser solo para las columnas principales que se mencionan en la descripción de la BBDD)\n",
        "\n",
        "2. Para el mes de diciembre 2023, determinar cuantos vehículos logró vender cada uno de los ejecutivos. Almacenar esto en un objeto del tipo DataFrame.\n",
        "\n",
        "3. Para el mes de diciembre 2023, determinar el cruce de seguros, llamaremos cruce a: Si el ejecutivo Andres vendió en total 100 créditos y 98 de ellos vienen con seguro el cruce de seguros es 98%. Esto para cada tipo de seguro. almacenar esto en un ojeto del tipo DataFrame.\n",
        "\n",
        "4. Para el año 2023, crear en la BBDD Ventas la columna Periodo, que indique mes y año en se vendió el crédito, por ejemplo: si el crédito fue vendido el 27-02-2024, la columna debe tener el valor 2024-02, esta columna debe ser del tipo factor.\n",
        "\n",
        "5. Crear un DataFrame que permita observar para todo el año 2023 la cantidad de créditos vendidos por cada ejecutivo y el cruce de seguros.\n",
        "\n",
        "6. Exportar este DataFram con el nombre seguros_2023 en formato Excel\n",
        "\n",
        "7. Utilice diferentes estadísticos descriptivos para indicar a su criterio cual es el mejor mes en ventas de créditos.\n",
        "\n",
        "Pd. Durante el proceso tendrá que tomar diversas decisiones con los datos,  deberá justificar todas estas."
      ],
      "metadata": {
        "id": "bW54vghMQnbX"
      }
    },
    {
      "cell_type": "markdown",
      "source": [
        "Las BBDD las encontrará en: [Drive](https://drive.google.com/drive/folders/1i0sc_gIMZAB8icoOfBRULSTgQ6YFKNQD)"
      ],
      "metadata": {
        "id": "WWqdn-NnXZ1D"
      }
    }
  ]
}