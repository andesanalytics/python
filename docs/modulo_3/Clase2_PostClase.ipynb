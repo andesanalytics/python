{
  "nbformat": 4,
  "nbformat_minor": 0,
  "metadata": {
    "colab": {
      "provenance": []
    },
    "kernelspec": {
      "name": "python3",
      "display_name": "Python 3"
    },
    "language_info": {
      "name": "python"
    }
  },
  "cells": [
    {
      "cell_type": "markdown",
      "source": [
        "# Clase 2: Post Clase"
      ],
      "metadata": {
        "id": "nFAiUePWXhQL"
      }
    },
    {
      "cell_type": "markdown",
      "source": [
        "# **Repaso Clase 1 Pandas**"
      ],
      "metadata": {
        "id": "FpuviwH-RsbH"
      }
    },
    {
      "cell_type": "code",
      "source": [
        "#Preparación del Entorno\n",
        "from google.colab import drive\n",
        "drive.mount('/content/drive/')"
      ],
      "metadata": {
        "colab": {
          "base_uri": "https://localhost:8080/"
        },
        "id": "cTlQj1V_RzEC",
        "outputId": "2c197839-2ec1-4510-e033-e29dc8a9bafb"
      },
      "execution_count": null,
      "outputs": [
        {
          "output_type": "stream",
          "name": "stdout",
          "text": [
            "Mounted at /content/drive/\n"
          ]
        }
      ]
    },
    {
      "cell_type": "code",
      "source": [
        "#Librería Pandas\n",
        "import pandas as pd"
      ],
      "metadata": {
        "id": "6G4MblhISPMH"
      },
      "execution_count": null,
      "outputs": []
    },
    {
      "cell_type": "code",
      "source": [
        "# Carga BBDD\n",
        "df = pd.read_csv('/content/drive/MyDrive/siniestralidad_seguros.csv')"
      ],
      "metadata": {
        "id": "HjizRWz-SCHm"
      },
      "execution_count": null,
      "outputs": []
    },
    {
      "cell_type": "code",
      "source": [
        "# Método de DataFrame\n",
        "df.head(4)"
      ],
      "metadata": {
        "colab": {
          "base_uri": "https://localhost:8080/",
          "height": 175
        },
        "id": "39bMT7CqSUvP",
        "outputId": "34ace409-8040-42e9-e204-c8b89a143b65"
      },
      "execution_count": null,
      "outputs": [
        {
          "output_type": "execute_result",
          "data": {
            "text/plain": [
              "    Año Tipo de Siniestro  Cantidad  Costo Total (USD)\n",
              "0  2020         Automóvil       120              50000\n",
              "1  2020              Vida        80              40000\n",
              "2  2021         Automóvil       140              55000\n",
              "3  2021              Vida        85              42000"
            ],
            "text/html": [
              "\n",
              "  <div id=\"df-8f1a4229-0b15-48fb-80cc-e4ab5072507e\" class=\"colab-df-container\">\n",
              "    <div>\n",
              "<style scoped>\n",
              "    .dataframe tbody tr th:only-of-type {\n",
              "        vertical-align: middle;\n",
              "    }\n",
              "\n",
              "    .dataframe tbody tr th {\n",
              "        vertical-align: top;\n",
              "    }\n",
              "\n",
              "    .dataframe thead th {\n",
              "        text-align: right;\n",
              "    }\n",
              "</style>\n",
              "<table border=\"1\" class=\"dataframe\">\n",
              "  <thead>\n",
              "    <tr style=\"text-align: right;\">\n",
              "      <th></th>\n",
              "      <th>Año</th>\n",
              "      <th>Tipo de Siniestro</th>\n",
              "      <th>Cantidad</th>\n",
              "      <th>Costo Total (USD)</th>\n",
              "    </tr>\n",
              "  </thead>\n",
              "  <tbody>\n",
              "    <tr>\n",
              "      <th>0</th>\n",
              "      <td>2020</td>\n",
              "      <td>Automóvil</td>\n",
              "      <td>120</td>\n",
              "      <td>50000</td>\n",
              "    </tr>\n",
              "    <tr>\n",
              "      <th>1</th>\n",
              "      <td>2020</td>\n",
              "      <td>Vida</td>\n",
              "      <td>80</td>\n",
              "      <td>40000</td>\n",
              "    </tr>\n",
              "    <tr>\n",
              "      <th>2</th>\n",
              "      <td>2021</td>\n",
              "      <td>Automóvil</td>\n",
              "      <td>140</td>\n",
              "      <td>55000</td>\n",
              "    </tr>\n",
              "    <tr>\n",
              "      <th>3</th>\n",
              "      <td>2021</td>\n",
              "      <td>Vida</td>\n",
              "      <td>85</td>\n",
              "      <td>42000</td>\n",
              "    </tr>\n",
              "  </tbody>\n",
              "</table>\n",
              "</div>\n",
              "    <div class=\"colab-df-buttons\">\n",
              "\n",
              "  <div class=\"colab-df-container\">\n",
              "    <button class=\"colab-df-convert\" onclick=\"convertToInteractive('df-8f1a4229-0b15-48fb-80cc-e4ab5072507e')\"\n",
              "            title=\"Convert this dataframe to an interactive table.\"\n",
              "            style=\"display:none;\">\n",
              "\n",
              "  <svg xmlns=\"http://www.w3.org/2000/svg\" height=\"24px\" viewBox=\"0 -960 960 960\">\n",
              "    <path d=\"M120-120v-720h720v720H120Zm60-500h600v-160H180v160Zm220 220h160v-160H400v160Zm0 220h160v-160H400v160ZM180-400h160v-160H180v160Zm440 0h160v-160H620v160ZM180-180h160v-160H180v160Zm440 0h160v-160H620v160Z\"/>\n",
              "  </svg>\n",
              "    </button>\n",
              "\n",
              "  <style>\n",
              "    .colab-df-container {\n",
              "      display:flex;\n",
              "      gap: 12px;\n",
              "    }\n",
              "\n",
              "    .colab-df-convert {\n",
              "      background-color: #E8F0FE;\n",
              "      border: none;\n",
              "      border-radius: 50%;\n",
              "      cursor: pointer;\n",
              "      display: none;\n",
              "      fill: #1967D2;\n",
              "      height: 32px;\n",
              "      padding: 0 0 0 0;\n",
              "      width: 32px;\n",
              "    }\n",
              "\n",
              "    .colab-df-convert:hover {\n",
              "      background-color: #E2EBFA;\n",
              "      box-shadow: 0px 1px 2px rgba(60, 64, 67, 0.3), 0px 1px 3px 1px rgba(60, 64, 67, 0.15);\n",
              "      fill: #174EA6;\n",
              "    }\n",
              "\n",
              "    .colab-df-buttons div {\n",
              "      margin-bottom: 4px;\n",
              "    }\n",
              "\n",
              "    [theme=dark] .colab-df-convert {\n",
              "      background-color: #3B4455;\n",
              "      fill: #D2E3FC;\n",
              "    }\n",
              "\n",
              "    [theme=dark] .colab-df-convert:hover {\n",
              "      background-color: #434B5C;\n",
              "      box-shadow: 0px 1px 3px 1px rgba(0, 0, 0, 0.15);\n",
              "      filter: drop-shadow(0px 1px 2px rgba(0, 0, 0, 0.3));\n",
              "      fill: #FFFFFF;\n",
              "    }\n",
              "  </style>\n",
              "\n",
              "    <script>\n",
              "      const buttonEl =\n",
              "        document.querySelector('#df-8f1a4229-0b15-48fb-80cc-e4ab5072507e button.colab-df-convert');\n",
              "      buttonEl.style.display =\n",
              "        google.colab.kernel.accessAllowed ? 'block' : 'none';\n",
              "\n",
              "      async function convertToInteractive(key) {\n",
              "        const element = document.querySelector('#df-8f1a4229-0b15-48fb-80cc-e4ab5072507e');\n",
              "        const dataTable =\n",
              "          await google.colab.kernel.invokeFunction('convertToInteractive',\n",
              "                                                    [key], {});\n",
              "        if (!dataTable) return;\n",
              "\n",
              "        const docLinkHtml = 'Like what you see? Visit the ' +\n",
              "          '<a target=\"_blank\" href=https://colab.research.google.com/notebooks/data_table.ipynb>data table notebook</a>'\n",
              "          + ' to learn more about interactive tables.';\n",
              "        element.innerHTML = '';\n",
              "        dataTable['output_type'] = 'display_data';\n",
              "        await google.colab.output.renderOutput(dataTable, element);\n",
              "        const docLink = document.createElement('div');\n",
              "        docLink.innerHTML = docLinkHtml;\n",
              "        element.appendChild(docLink);\n",
              "      }\n",
              "    </script>\n",
              "  </div>\n",
              "\n",
              "\n",
              "<div id=\"df-a13dd0b6-6923-47da-96fe-4732024046d7\">\n",
              "  <button class=\"colab-df-quickchart\" onclick=\"quickchart('df-a13dd0b6-6923-47da-96fe-4732024046d7')\"\n",
              "            title=\"Suggest charts\"\n",
              "            style=\"display:none;\">\n",
              "\n",
              "<svg xmlns=\"http://www.w3.org/2000/svg\" height=\"24px\"viewBox=\"0 0 24 24\"\n",
              "     width=\"24px\">\n",
              "    <g>\n",
              "        <path d=\"M19 3H5c-1.1 0-2 .9-2 2v14c0 1.1.9 2 2 2h14c1.1 0 2-.9 2-2V5c0-1.1-.9-2-2-2zM9 17H7v-7h2v7zm4 0h-2V7h2v10zm4 0h-2v-4h2v4z\"/>\n",
              "    </g>\n",
              "</svg>\n",
              "  </button>\n",
              "\n",
              "<style>\n",
              "  .colab-df-quickchart {\n",
              "      --bg-color: #E8F0FE;\n",
              "      --fill-color: #1967D2;\n",
              "      --hover-bg-color: #E2EBFA;\n",
              "      --hover-fill-color: #174EA6;\n",
              "      --disabled-fill-color: #AAA;\n",
              "      --disabled-bg-color: #DDD;\n",
              "  }\n",
              "\n",
              "  [theme=dark] .colab-df-quickchart {\n",
              "      --bg-color: #3B4455;\n",
              "      --fill-color: #D2E3FC;\n",
              "      --hover-bg-color: #434B5C;\n",
              "      --hover-fill-color: #FFFFFF;\n",
              "      --disabled-bg-color: #3B4455;\n",
              "      --disabled-fill-color: #666;\n",
              "  }\n",
              "\n",
              "  .colab-df-quickchart {\n",
              "    background-color: var(--bg-color);\n",
              "    border: none;\n",
              "    border-radius: 50%;\n",
              "    cursor: pointer;\n",
              "    display: none;\n",
              "    fill: var(--fill-color);\n",
              "    height: 32px;\n",
              "    padding: 0;\n",
              "    width: 32px;\n",
              "  }\n",
              "\n",
              "  .colab-df-quickchart:hover {\n",
              "    background-color: var(--hover-bg-color);\n",
              "    box-shadow: 0 1px 2px rgba(60, 64, 67, 0.3), 0 1px 3px 1px rgba(60, 64, 67, 0.15);\n",
              "    fill: var(--button-hover-fill-color);\n",
              "  }\n",
              "\n",
              "  .colab-df-quickchart-complete:disabled,\n",
              "  .colab-df-quickchart-complete:disabled:hover {\n",
              "    background-color: var(--disabled-bg-color);\n",
              "    fill: var(--disabled-fill-color);\n",
              "    box-shadow: none;\n",
              "  }\n",
              "\n",
              "  .colab-df-spinner {\n",
              "    border: 2px solid var(--fill-color);\n",
              "    border-color: transparent;\n",
              "    border-bottom-color: var(--fill-color);\n",
              "    animation:\n",
              "      spin 1s steps(1) infinite;\n",
              "  }\n",
              "\n",
              "  @keyframes spin {\n",
              "    0% {\n",
              "      border-color: transparent;\n",
              "      border-bottom-color: var(--fill-color);\n",
              "      border-left-color: var(--fill-color);\n",
              "    }\n",
              "    20% {\n",
              "      border-color: transparent;\n",
              "      border-left-color: var(--fill-color);\n",
              "      border-top-color: var(--fill-color);\n",
              "    }\n",
              "    30% {\n",
              "      border-color: transparent;\n",
              "      border-left-color: var(--fill-color);\n",
              "      border-top-color: var(--fill-color);\n",
              "      border-right-color: var(--fill-color);\n",
              "    }\n",
              "    40% {\n",
              "      border-color: transparent;\n",
              "      border-right-color: var(--fill-color);\n",
              "      border-top-color: var(--fill-color);\n",
              "    }\n",
              "    60% {\n",
              "      border-color: transparent;\n",
              "      border-right-color: var(--fill-color);\n",
              "    }\n",
              "    80% {\n",
              "      border-color: transparent;\n",
              "      border-right-color: var(--fill-color);\n",
              "      border-bottom-color: var(--fill-color);\n",
              "    }\n",
              "    90% {\n",
              "      border-color: transparent;\n",
              "      border-bottom-color: var(--fill-color);\n",
              "    }\n",
              "  }\n",
              "</style>\n",
              "\n",
              "  <script>\n",
              "    async function quickchart(key) {\n",
              "      const quickchartButtonEl =\n",
              "        document.querySelector('#' + key + ' button');\n",
              "      quickchartButtonEl.disabled = true;  // To prevent multiple clicks.\n",
              "      quickchartButtonEl.classList.add('colab-df-spinner');\n",
              "      try {\n",
              "        const charts = await google.colab.kernel.invokeFunction(\n",
              "            'suggestCharts', [key], {});\n",
              "      } catch (error) {\n",
              "        console.error('Error during call to suggestCharts:', error);\n",
              "      }\n",
              "      quickchartButtonEl.classList.remove('colab-df-spinner');\n",
              "      quickchartButtonEl.classList.add('colab-df-quickchart-complete');\n",
              "    }\n",
              "    (() => {\n",
              "      let quickchartButtonEl =\n",
              "        document.querySelector('#df-a13dd0b6-6923-47da-96fe-4732024046d7 button');\n",
              "      quickchartButtonEl.style.display =\n",
              "        google.colab.kernel.accessAllowed ? 'block' : 'none';\n",
              "    })();\n",
              "  </script>\n",
              "</div>\n",
              "    </div>\n",
              "  </div>\n"
            ]
          },
          "metadata": {},
          "execution_count": 5
        }
      ]
    },
    {
      "cell_type": "code",
      "source": [
        "# Atributo DataFrame\n",
        "df.shape"
      ],
      "metadata": {
        "colab": {
          "base_uri": "https://localhost:8080/"
        },
        "id": "Bzx3GreQSc9K",
        "outputId": "6099e14c-c318-4d9e-9df1-1c1655540055"
      },
      "execution_count": null,
      "outputs": [
        {
          "output_type": "execute_result",
          "data": {
            "text/plain": [
              "(7, 4)"
            ]
          },
          "metadata": {},
          "execution_count": 6
        }
      ]
    },
    {
      "cell_type": "markdown",
      "source": [
        "# **Indexación en Pandas**"
      ],
      "metadata": {
        "id": "9AIFHlENSvjv"
      }
    },
    {
      "cell_type": "markdown",
      "source": [
        "**Acceso a los elementos de un DataFrame**\n",
        "El acceso a los datos de un DataFrame se puede hacer a travész de posiciones o através de los nombres de las filas y columnas\n",
        "\n",
        "1. Acceso mediante posiciones\n",
        "* `df.iloc[i, j]` : Devuelve el elemento que se encuentra en la fila i y la columna j del DataFrame df. Pueden indicarse secuencias de índices para obtener partes del DataFrame.\n",
        "\n",
        "* `df.iloc[filas, columnas]` : Devuelve un DataFrame con los elementos de las filas de la lista filas y de las columnas de la lista columnas.\n",
        "\n",
        "* `df.iloc[i]` : Devuelve una serie con los elementos de la fila i del DataFrame df\n",
        "\n",
        "2. Acceso mediante nombres de filas y columnas\n",
        "\n",
        "* `df.loc[fila, columna]` : Devuelve el elemento que se encuentra en la fila con nombre fila y la columna de con nombre columna del DataFrame df.\n",
        "\n",
        "* `df[columna]` : Devuelve una serie con los elementos de la columna de nombre columna del DataFrame df.\n",
        "\n",
        "* `df.columna` : Devuelve una serie con los elementos de la columna de nombre columna del DataFrame df. Es similar al método anterior pero solo funciona cuando el nombre de la columna no tiene espacios en blanco."
      ],
      "metadata": {
        "id": "lbthXo19PwmB"
      }
    },
    {
      "cell_type": "markdown",
      "source": [
        "**Ejemplo:** Usando la misma BBDD del ejercicio anterior\n",
        "\n",
        "1. Indexar solo la columna age.\n",
        "2. Indexar las primeras 10 filas de la columna gender"
      ],
      "metadata": {
        "id": "_oSrXjwUxdcg"
      }
    },
    {
      "cell_type": "markdown",
      "source": [
        "**Operaciones con las columnas de un DataFrame**\n",
        "1. Añadir columnas\n",
        "`df[nombre]`= lista: Si no existe la columna cuyo nombre sea \"nombre\" automáticamente se genera. el tamaño de la lista debe ser igual al largo de la columna\n",
        "2. Eliminar columnas\n",
        "`del df[nombre]`: Elimina la columna con nombre \"nombre\" del DataFrame\n",
        "4. Aplicar funciones a columnas\n",
        "`df[nombre].apply(f)`: Devuelve una serie con los valores que resulta de aplicar la función f a los elementos de la columna con nombre \"nombre\" del DataFrame df\n",
        "5. Convertir una columna\n",
        "* `to_datetime(columna, formato)`: Devuelve la serie que resulta de convertir las cadenas de la columna con el nombre columna en fechas del tipo datetime con el formato indicado. Existen más tipos de cambios.\n",
        "* `to_numeric(columna)`: Convierte el objeto a números. Útil para convertir strings numércios a tipo de datos numéricos\n",
        "* `to_categorical(columna)`: Convierte la columna a una categoría.\n",
        "\n",
        "**Operaciones con las filas de un DataFrame**\n",
        "1. Añadir una fila\n",
        "`df.append(serie, ignore_index = True)`: Devuelve el DataFrame que resulta de añadir una fila al DataFrame df con los valores de la serie .\n",
        "2. Eliminar una fila\n",
        "`df.drop(filas)`: Devuelve el DataFrame que resulta de eliminar las filas con los nombres indicados en la lista\n",
        "3. Filtrar filas\n",
        "`df[condicion]`: Devuleve un DataFrame con las filas del DataFrame df que corresponden con el valor True de la lista.\n",
        "4. Ordenar un DataFrame\n",
        "* `df.sort_values(columna, ascending = True)`: DEvuelve el DataFrame que resulta de ordenar las filas del DataFrame df según los vaores de la columna con nombre columna.\n",
        "* `df.sort_index(ascending = True)`: Devuelve el DataFrame que resulta de ordenar las filas del DataFrame df según los nombres de las filas.\n",
        "5. Agrupar filas basadas en los valores de una o más columnas. Esto significa que estás organizando las filas en grupos según ciertos criterios definidos por los valores de las columnas\n",
        "* `df.groupby(columna)`\n",
        "6. Operaciones de agregación en grupos de datos generados por `group_by` la sintaxis básica es la siguiente\n",
        "* `df.group_by(columna).agg(funciones)`"
      ],
      "metadata": {
        "id": "qdXerTo4yaGf"
      }
    },
    {
      "cell_type": "markdown",
      "source": [
        "## Ejercicio 1\n",
        "\n",
        "1. **Crear un DataFrame** con información de seguros de vida y automóviles. Incluye columnas como \"Tipo de seguro\", \"Monto asegurado\", \"Prima anual\", y \"Fecha de vencimiento\"."
      ],
      "metadata": {
        "id": "4_UGLpeBT1xN"
      }
    },
    {
      "cell_type": "markdown",
      "source": [
        "2. Mostrar la información de los seguros cuyo monto asegurado sea superior a $100,000."
      ],
      "metadata": {
        "id": "gVpariaVK7Wy"
      }
    },
    {
      "cell_type": "markdown",
      "source": [
        "3. Calcular el promedio de la prima anual para todos los seguros."
      ],
      "metadata": {
        "id": "WGZVaH3nK9Tt"
      }
    },
    {
      "cell_type": "markdown",
      "source": [
        "4. Agregar una nueva columna llamada \"Descuento\" que represente un descuento del 10% en la prima anual."
      ],
      "metadata": {
        "id": "imEeHXk2K-wY"
      }
    }
  ]
}