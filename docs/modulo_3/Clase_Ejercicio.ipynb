{
  "cells": [
    {
      "cell_type": "markdown",
      "source": [
        "# Clase de Ejercicio"
      ],
      "metadata": {
        "id": "3hMfYDpoPeNE"
      }
    },
    {
      "cell_type": "markdown",
      "source": [
        "Para nuestro ejemplo de análisis de datos utilizaremos los datos que provee la AEMET (Agencia estatal de Meteorología). Hemos usado los enlaces disponibles en su web ya que es mas sencilla su descarga.\n",
        "Los datos contienen información diaria sobre temperatura (máxima, mínima y media), viento (racha y velocidad máxima de las medias) y precipitaciones (total y por tramo horario) para cada estación meteorológica de España.\n",
        "En algunos casos falta información y eso se tiene que tener en cuenta durante el proceso de limpieza de datos.\n",
        "Por simplificar el dataset, hemos realizado el análisis de datos únicamente del mes de Enero del año 2020.\n",
        "\n",
        "Link de descarga de datos: https://datosclima.es/capturadatos/Aemet2019-01.rar"
      ],
      "metadata": {
        "id": "uUc_XxA7S2zV"
      }
    },
    {
      "cell_type": "markdown",
      "source": [
        "Una parte importante del proceso de obtención de datos es limpiar su contenido para que sea adecuado a nuestras necesidades y para hacerlos mas cómodos de usar.\n",
        "\n",
        "1. Podemos empezar renombrando las columnas para que sea mas sencillo usarlas y ocupen menos espacio en pantalla.\n",
        "\n"
      ],
      "metadata": {
        "id": "LO3WOum1QqOd"
      }
    },
    {
      "cell_type": "markdown",
      "source": [
        "2. ¿Están todas las columnas en formato correcto?"
      ],
      "metadata": {
        "id": "EhlS4C8sRExo"
      }
    },
    {
      "cell_type": "markdown",
      "source": [
        "3. Eliminar filas a la que le faltan datos"
      ],
      "metadata": {
        "id": "ijseyLsdRKtC"
      }
    },
    {
      "cell_type": "markdown",
      "source": [
        "4. Describir el comportamiento de la BBDD por Estación"
      ],
      "metadata": {
        "id": "GbpSHkKbR0oF"
      }
    },
    {
      "cell_type": "markdown",
      "source": [
        "5. Describir el comportamiento de la BBDD por Provincia"
      ],
      "metadata": {
        "id": "7OD8zIXsR6Cs"
      }
    },
    {
      "cell_type": "markdown",
      "source": [
        "6. Racha de días seguidos lloviendo por provincia y estación\n",
        "\n",
        "El proceso de obtener rachas, es decir, número de días en los que pasa un suceso (en este caso llover) consecutivamente es un proceso algo más elaborado pero que se puede realizar en unas pocas líneas de código aprovechando las siguientes funcionalidades del dataframe:\n",
        "\n",
        "* Creación de una nueva columna cuyo valor se obtiene a partir de otra columna aplicando una función lambda (cálculo de la columna «llueve»).\n",
        "* Comparación de valores (operador «ne») entre columnas de una misma fila.\n",
        "* Desplazamiento (método «shift») de una columna para disponer de datos anteriores en la misma fila.\n",
        "* Generación de un número secuencial (identificador) de los elementos de cada grupo (método «cumsum»).\n",
        "* Cálculo del número de elementos de un grupo (método «cumcount»).\n",
        "* Asignación de un valor a una columna para las filas que cumplan una condición (llueve==0)."
      ],
      "metadata": {
        "id": "sYf7G8yMR9U3"
      }
    },
    {
      "cell_type": "markdown",
      "source": [
        "7. ¿Dónde llueve menos días seguidos por provincia y estación?"
      ],
      "metadata": {
        "id": "_8-pF01-SVxh"
      }
    },
    {
      "cell_type": "markdown",
      "source": [
        "8. Mostrar cuántas estaciones hay por provincia y un total general"
      ],
      "metadata": {
        "id": "wMlj8kjoSXat"
      }
    }
  ],
  "metadata": {
    "kernelspec": {
      "display_name": "Python 3",
      "language": "python",
      "name": "python3"
    },
    "language_info": {
      "codemirror_mode": {
        "name": "ipython",
        "version": 3
      },
      "file_extension": ".py",
      "mimetype": "text/x-python",
      "name": "python",
      "nbconvert_exporter": "python",
      "pygments_lexer": "ipython3",
      "version": "3.7.6-final"
    },
    "colab": {
      "provenance": []
    }
  },
  "nbformat": 4,
  "nbformat_minor": 0
}