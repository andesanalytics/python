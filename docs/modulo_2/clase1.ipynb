{
 "cells": [
  {
   "attachments": {},
   "cell_type": "markdown",
   "metadata": {},
   "source": [
    "# Clase 1: Listas y Tuplas, Diccionarios y Conjuntos"
   ]
  },
  {
   "attachments": {},
   "cell_type": "markdown",
   "metadata": {},
   "source": [
    "<a href=\"https://colab.research.google.com/github/hizocar/python_andes_analytics/blob/main/docs/modulo_2/clase1.ipynb\" target=\"_parent\"><img src=\"https://colab.research.google.com/assets/colab-badge.svg\" alt=\"Open In Colab\"/></a>"
   ]
  },
  {
   "attachments": {},
   "cell_type": "markdown",
   "metadata": {},
   "source": [
    "Python proporciona dos tipos de estructuras de datos muy útiles y versátiles: las listas y las tuplas. Ambas permiten almacenar una colección de elementos, pero tienen algunas diferencias clave."
   ]
  },
  {
   "attachments": {},
   "cell_type": "markdown",
   "metadata": {},
   "source": [
    "## Listas\n",
    "Las listas en Python son colecciones ordenadas y modificables de elementos. Pueden contener cualquier tipo de dato, como números, cadenas y hasta otras listas.\n",
    "\n",
    "### Creación de Listas\n",
    "Para crear una lista, coloca todos los elementos entre corchetes [], separados por comas."
   ]
  },
  {
   "cell_type": "code",
   "execution_count": null,
   "metadata": {},
   "outputs": [],
   "source": [
    "mi_lista = [1, 2, 3]\n",
    "lista_de_cadenas = [\"manzana\", \"banana\", \"cereza\"]"
   ]
  },
  {
   "attachments": {},
   "cell_type": "markdown",
   "metadata": {},
   "source": [
    "### Manipulación de Listas\n",
    "Las listas son mutables, lo que significa que puedes cambiar, añadir y eliminar elementos después de que la lista ha sido creada."
   ]
  },
  {
   "attachments": {},
   "cell_type": "markdown",
   "metadata": {},
   "source": [
    "**append():** Añade un elemento al final de la lista."
   ]
  },
  {
   "cell_type": "code",
   "execution_count": null,
   "metadata": {},
   "outputs": [],
   "source": [
    "mi_lista.append(4)"
   ]
  },
  {
   "attachments": {},
   "cell_type": "markdown",
   "metadata": {},
   "source": [
    "**insert():** Añade un elemento en una posición específica"
   ]
  },
  {
   "cell_type": "code",
   "execution_count": null,
   "metadata": {},
   "outputs": [],
   "source": [
    "mi_lista.insert(1, 'a')"
   ]
  },
  {
   "attachments": {},
   "cell_type": "markdown",
   "metadata": {},
   "source": [
    "**remove():** Elimina el primer elemento con el valor especificado"
   ]
  },
  {
   "cell_type": "code",
   "execution_count": null,
   "metadata": {},
   "outputs": [],
   "source": [
    "mi_lista.remove('a')"
   ]
  },
  {
   "attachments": {},
   "cell_type": "markdown",
   "metadata": {},
   "source": [
    "**pop():** Elimina el elemento en la posición dada (por defecto, el último elemento)"
   ]
  },
  {
   "cell_type": "code",
   "execution_count": null,
   "metadata": {},
   "outputs": [],
   "source": [
    "mi_lista.pop()\n"
   ]
  },
  {
   "attachments": {},
   "cell_type": "markdown",
   "metadata": {},
   "source": [
    "**clear():** Elimina todos los elementos de la lista"
   ]
  },
  {
   "cell_type": "code",
   "execution_count": null,
   "metadata": {},
   "outputs": [],
   "source": [
    "mi_lista.clear()"
   ]
  },
  {
   "attachments": {},
   "cell_type": "markdown",
   "metadata": {},
   "source": [
    "### Otros Métodos\n",
    "- index(): Retorna el índice del primer elemento con el valor especificado.\n",
    "- count(): Retorna el número de elementos con el valor especificado.\n",
    "- sort(): Ordena la lista.\n",
    "- reverse(): Invierte el orden de los elementos de la lista."
   ]
  },
  {
   "attachments": {},
   "cell_type": "markdown",
   "metadata": {},
   "source": [
    "## Tuplas\n",
    "Las tuplas son colecciones similares a las listas, pero inmutables. Esto significa que, una vez creadas, no puedes cambiar sus elementos.\n",
    "\n",
    "### Creación de Tuplas\n",
    "Para crear una tupla, coloca los elementos entre paréntesis ()."
   ]
  },
  {
   "cell_type": "code",
   "execution_count": null,
   "metadata": {},
   "outputs": [],
   "source": [
    "mi_tupla = (1, 2, 3)\n",
    "tupla_de_cadenas = (\"manzana\", \"banana\", \"cereza\")"
   ]
  },
  {
   "attachments": {},
   "cell_type": "markdown",
   "metadata": {},
   "source": [
    "### Manipulación de Tuplas\n",
    "Debido a que las tuplas son inmutables, sus elementos no pueden ser modificados, añadidos o eliminados después de la creación. Sin embargo, puedes realizar otras operaciones:\n",
    "\n",
    "- index(): Obtiene el índice de un elemento.\n",
    "- count(): Cuenta cuántas veces aparece un elemento en la tupla."
   ]
  },
  {
   "attachments": {},
   "cell_type": "markdown",
   "metadata": {},
   "source": [
    "### Conversión entre Listas y Tuplas\n",
    "Puedes convertir listas en tuplas y viceversa utilizando los constructores list() y tuple()."
   ]
  },
  {
   "cell_type": "code",
   "execution_count": null,
   "metadata": {},
   "outputs": [],
   "source": [
    "# Lista a Tupla\n",
    "lista = [1, 2, 3]\n",
    "tupla = tuple(lista)\n",
    "\n",
    "# Tupla a Lista\n",
    "tupla = (1, 2, 3)\n",
    "lista = list(tupla)"
   ]
  },
  {
   "attachments": {},
   "cell_type": "markdown",
   "metadata": {},
   "source": [
    "## Ejercicio: Análisis de Cartera de Seguros\n",
    "Supongamos que trabajas en el departamento actuarial de una compañía de seguros. Se te ha pedido realizar un análisis preliminar de una pequeña cartera de seguros de vida. La información que tienes es una lista de pólizas, donde cada póliza contiene una tupla con la siguiente información: (ID de póliza, edad del asegurado, monto asegurado).\n",
    "\n",
    "### Tu tarea es:\n",
    "\n",
    "- Calcular el monto asegurado total.\n",
    "- Encontrar la edad promedio de los asegurados.\n",
    "- Identificar la póliza con el mayor monto asegurado y mostrar su ID."
   ]
  },
  {
   "cell_type": "code",
   "execution_count": null,
   "metadata": {},
   "outputs": [],
   "source": [
    "cartera = [\n",
    "    (\"A001\", 30, 100000),\n",
    "    (\"A002\", 45, 250000),\n",
    "    (\"A003\", 22, 150000),\n",
    "    (\"A004\", 28, 200000),\n",
    "    (\"A005\", 50, 300000)\n",
    "]"
   ]
  },
  {
   "cell_type": "code",
   "execution_count": null,
   "metadata": {},
   "outputs": [],
   "source": [
    "total_monto_asegurado = 0\n",
    "total_edades = 0\n",
    "max_monto_asegurado = 0\n",
    "id_max_monto = \"\"\n",
    "\n",
    "# Procesamos cada póliza en la cartera\n",
    "for poliza in cartera:\n",
    "    id_poliza, edad, monto_asegurado = poliza\n",
    "\n",
    "    # Acumulamos el monto asegurado y las edades\n",
    "    total_monto_asegurado += monto_asegurado\n",
    "    total_edades += edad\n",
    "\n",
    "    # Verificamos si esta póliza tiene el monto asegurado más alto\n",
    "    if monto_asegurado > max_monto_asegurado:\n",
    "        max_monto_asegurado = monto_asegurado\n",
    "        id_max_monto = id_poliza\n",
    "\n",
    "# Calculamos el promedio de edad\n",
    "promedio_edad = total_edades / len(cartera)\n",
    "\n",
    "# Resultados\n",
    "print(f\"Monto asegurado total: {total_monto_asegurado}\")\n",
    "print(f\"Edad promedio: {promedio_edad}\")\n",
    "print(f\"ID de póliza con mayor monto asegurado: {id_max_monto} (Monto: {max_monto_asegurado})\")"
   ]
  },
  {
   "attachments": {},
   "cell_type": "markdown",
   "metadata": {},
   "source": [
    "## Comprensión de listas "
   ]
  },
  {
   "attachments": {},
   "cell_type": "markdown",
   "metadata": {},
   "source": [
    "La comprensión de listas en Python es una forma concisa y elegante de crear listas. Utiliza una sintaxis que emula la notación matemática de conjuntos, permitiendo la creación de listas a partir de otros iterables de manera eficiente y legible.\n",
    "\n",
    "### Definición y Sintaxis\n",
    "La comprensión de listas se escribe utilizando corchetes [], conteniendo una expresión seguida de un bucle for y opcionalmente condicionales if.\n",
    "\n",
    "#### La sintaxis básica es:"
   ]
  },
  {
   "cell_type": "code",
   "execution_count": null,
   "metadata": {},
   "outputs": [],
   "source": [
    "[expresion for item in iterable]"
   ]
  },
  {
   "attachments": {},
   "cell_type": "markdown",
   "metadata": {},
   "source": [
    "Donde:\n",
    "\n",
    "- expresion es la expresión que define cómo modificar los elementos del iterable.\n",
    "- item es la variable que toma el valor de cada elemento en el iterable.\n",
    "- iterable es una secuencia de elementos que será procesada.\n",
    "\n",
    "\n",
    "Si necesitas filtrar elementos, puedes añadir una o más condiciones if:"
   ]
  },
  {
   "cell_type": "code",
   "execution_count": null,
   "metadata": {},
   "outputs": [],
   "source": [
    "[expresion for item in iterable if condicion]"
   ]
  },
  {
   "attachments": {},
   "cell_type": "markdown",
   "metadata": {},
   "source": [
    "## Ejemplos\n",
    "### Ejemplo 1: Crear una Lista de Cuadrados\n",
    "Crear una lista de los cuadrados de los primeros 10 números enteros."
   ]
  },
  {
   "cell_type": "code",
   "execution_count": null,
   "metadata": {},
   "outputs": [],
   "source": [
    "cuadrados = [x**2 for x in range(1, 11)]\n",
    "print(cuadrados)  # Salida: [1, 4, 9, 16, 25, 36, 49, 64, 81, 100]"
   ]
  },
  {
   "attachments": {},
   "cell_type": "markdown",
   "metadata": {},
   "source": [
    "### Ejemplo 2: Filtrar Elementos\n",
    "Crear una lista de los cuadrados de los números pares entre 1 y 10."
   ]
  },
  {
   "cell_type": "code",
   "execution_count": null,
   "metadata": {},
   "outputs": [],
   "source": [
    "cuadrados_pares = [x**2 for x in range(1, 11) if x % 2 == 0]\n",
    "print(cuadrados_pares)  # Salida: [4, 16, 36, 64, 100]"
   ]
  },
  {
   "attachments": {},
   "cell_type": "markdown",
   "metadata": {},
   "source": [
    "### Ejemplo 3: Operaciones con Elementos de una Lista\n",
    "Convertir todas las palabras en una lista a mayúsculas."
   ]
  },
  {
   "cell_type": "code",
   "execution_count": null,
   "metadata": {},
   "outputs": [],
   "source": [
    "palabras = [\"hola\", \"mundo\", \"python\"]\n",
    "palabras_mayus = [palabra.upper() for palabra in palabras]\n",
    "print(palabras_mayus)  # Salida: ['HOLA', 'MUNDO', 'PYTHON']"
   ]
  },
  {
   "attachments": {},
   "cell_type": "markdown",
   "metadata": {},
   "source": [
    "### Ejemplo 4: Crear una Lista de Tuplas\n",
    "Crear una lista de tuplas que contengan números y sus cuadrados."
   ]
  },
  {
   "cell_type": "code",
   "execution_count": null,
   "metadata": {},
   "outputs": [],
   "source": [
    "tuplas = [(x, x**2) for x in range(1, 6)]\n",
    "print(tuplas)  # Salida: [(1, 1), (2, 4), (3, 9), (4, 16), (5, 25)]\n"
   ]
  },
  {
   "attachments": {},
   "cell_type": "markdown",
   "metadata": {},
   "source": [
    "### Ejemplo 5: Comprensión de Lista Anidada\n",
    "Crear una matriz 3x3 utilizando comprensión de listas."
   ]
  },
  {
   "cell_type": "code",
   "execution_count": null,
   "metadata": {},
   "outputs": [],
   "source": [
    "matriz = [[x for x in range(3)] for _ in range(3)]\n",
    "print(matriz)  # Salida: [[0, 1, 2], [0, 1, 2], [0, 1, 2]]"
   ]
  },
  {
   "attachments": {},
   "cell_type": "markdown",
   "metadata": {},
   "source": [
    "## Uso de Diccionarios en Python"
   ]
  },
  {
   "attachments": {},
   "cell_type": "markdown",
   "metadata": {},
   "source": [
    "Los diccionarios en Python son estructuras de datos que almacenan pares de clave-valor. Son colecciones desordenadas, pero se caracterizan por su alta eficiencia en la búsqueda, inserción y eliminación de elementos.\n",
    "\n",
    "### Creación de Diccionarios\n",
    "Un diccionario se crea colocando una serie de elementos en llaves {}, separados por comas. Cada elemento es un par clave-valor expresado como clave: valor."
   ]
  },
  {
   "cell_type": "code",
   "execution_count": null,
   "metadata": {},
   "outputs": [],
   "source": [
    "mi_diccionario = {'nombre': 'Juan', 'edad': 30, 'ciudad': 'Madrid'}"
   ]
  },
  {
   "cell_type": "code",
   "execution_count": null,
   "metadata": {},
   "outputs": [],
   "source": [
    "otro_diccionario = dict(nombre='Ana', edad=25, ciudad='Barcelona')\n"
   ]
  },
  {
   "attachments": {},
   "cell_type": "markdown",
   "metadata": {},
   "source": [
    "### Acceso a Elementos\n",
    "Los elementos de un diccionario se acceden utilizando sus claves.\n",
    "\n",
    "- Ejemplo de Acceso"
   ]
  },
  {
   "cell_type": "code",
   "execution_count": null,
   "metadata": {},
   "outputs": [],
   "source": [
    "nombre = mi_diccionario['nombre']\n",
    "print(nombre)  # Salida: Juan"
   ]
  },
  {
   "attachments": {},
   "cell_type": "markdown",
   "metadata": {},
   "source": [
    "Si intentas acceder a una clave que no existe, Python lanzará un error. Para evitar esto, puedes usar el método get() que devuelve None (o un valor por defecto) si la clave no existe."
   ]
  },
  {
   "cell_type": "code",
   "execution_count": null,
   "metadata": {},
   "outputs": [],
   "source": [
    "profesion = mi_diccionario.get('profesion', 'No especificada')\n",
    "print(profesion)  # Salida: No especificada"
   ]
  },
  {
   "attachments": {},
   "cell_type": "markdown",
   "metadata": {},
   "source": [
    "### Métodos de Diccionarios\n",
    "Los diccionarios tienen varios métodos útiles para su manipulación.\n",
    "\n",
    "#### Algunos Métodos Comunes\n",
    "- **keys():** Devuelve una vista de todas las claves en el diccionario."
   ]
  },
  {
   "cell_type": "code",
   "execution_count": null,
   "metadata": {},
   "outputs": [],
   "source": [
    "claves = mi_diccionario.keys()\n",
    "print(claves)  # Salida: dict_keys(['nombre', 'edad', 'ciudad'])\n"
   ]
  },
  {
   "attachments": {},
   "cell_type": "markdown",
   "metadata": {},
   "source": [
    "- **values():** Devuelve una vista de todos los valores en el diccionario."
   ]
  },
  {
   "cell_type": "code",
   "execution_count": null,
   "metadata": {},
   "outputs": [],
   "source": [
    "valores = mi_diccionario.values()\n",
    "print(valores)  # Salida: dict_values(['Juan', 30, 'Madrid'])\n"
   ]
  },
  {
   "attachments": {},
   "cell_type": "markdown",
   "metadata": {},
   "source": [
    "- **items():** Devuelve una vista de los pares clave-valor en el diccionario\n"
   ]
  },
  {
   "cell_type": "code",
   "execution_count": null,
   "metadata": {},
   "outputs": [],
   "source": [
    "items = mi_diccionario.items()\n",
    "print(items)  # Salida: dict_items([('nombre', 'Juan'), ('edad', 30), ('ciudad', 'Madrid')])\n"
   ]
  },
  {
   "attachments": {},
   "cell_type": "markdown",
   "metadata": {},
   "source": [
    "- **update():** Actualiza el diccionario con los pares clave-valor de otro diccionario o iterables."
   ]
  },
  {
   "cell_type": "code",
   "execution_count": null,
   "metadata": {},
   "outputs": [],
   "source": [
    "mi_diccionario.update({'profesion': 'Ingeniero'})\n",
    "print(mi_diccionario)  # Salida: {'nombre': 'Juan', 'edad': 30, 'ciudad': 'Madrid', 'profesion': 'Ingeniero'}\n"
   ]
  },
  {
   "attachments": {},
   "cell_type": "markdown",
   "metadata": {},
   "source": [
    "- **pop():** Elimina el elemento con la clave dada y devuelve su valor."
   ]
  },
  {
   "cell_type": "code",
   "execution_count": null,
   "metadata": {},
   "outputs": [],
   "source": [
    "ciudad = mi_diccionario.pop('ciudad')\n",
    "print(ciudad)  # Salida: Madrid\n"
   ]
  },
  {
   "attachments": {},
   "cell_type": "markdown",
   "metadata": {},
   "source": [
    "- **clear():** Elimina todos los elementos del diccionario."
   ]
  },
  {
   "cell_type": "code",
   "execution_count": null,
   "metadata": {},
   "outputs": [],
   "source": [
    "otro_diccionario.clear()\n",
    "print(otro_diccionario)  # Salida: {}\n"
   ]
  },
  {
   "attachments": {},
   "cell_type": "markdown",
   "metadata": {},
   "source": [
    "\n",
    "## Conjuntos y sus Operaciones en Python\n",
    "Los conjuntos en Python son colecciones desordenadas de elementos únicos. Son similares a los conjuntos matemáticos y son ideales para operaciones como la unión, intersección, diferencia y diferencia simétrica.\n",
    "\n",
    "### Creación de Conjuntos\n",
    "Un conjunto se crea utilizando llaves {} con elementos separados por comas. También puedes crear un conjunto a partir de un iterable utilizando la función set()"
   ]
  },
  {
   "cell_type": "code",
   "execution_count": null,
   "metadata": {},
   "outputs": [],
   "source": [
    "mi_conjunto = {1, 2, 3}\n",
    "conjunto_a_partir_de_lista = set([4, 5, 6])"
   ]
  },
  {
   "attachments": {},
   "cell_type": "markdown",
   "metadata": {},
   "source": [
    "### Operaciones con Conjuntos\n",
    "#### Adición y Eliminación de Elementos\n",
    "**add():** Añade un elemento al conjunto."
   ]
  },
  {
   "cell_type": "code",
   "execution_count": null,
   "metadata": {},
   "outputs": [],
   "source": [
    "mi_conjunto.add(4)"
   ]
  },
  {
   "attachments": {},
   "cell_type": "markdown",
   "metadata": {},
   "source": [
    "**remove():** Elimina un elemento del conjunto. Si el elemento no existe, se produce un error."
   ]
  },
  {
   "cell_type": "code",
   "execution_count": null,
   "metadata": {},
   "outputs": [],
   "source": [
    "mi_conjunto.remove(4)"
   ]
  },
  {
   "attachments": {},
   "cell_type": "markdown",
   "metadata": {},
   "source": [
    "**discard():** Elimina un elemento del conjunto si está presente."
   ]
  },
  {
   "cell_type": "code",
   "execution_count": null,
   "metadata": {},
   "outputs": [],
   "source": [
    "mi_conjunto.discard(3)"
   ]
  },
  {
   "attachments": {},
   "cell_type": "markdown",
   "metadata": {},
   "source": [
    "#### Operaciones Matemáticas\n",
    "Unión (|): Combina los elementos de dos conjuntos."
   ]
  },
  {
   "cell_type": "code",
   "execution_count": null,
   "metadata": {},
   "outputs": [],
   "source": [
    "conjunto_union = mi_conjunto | conjunto_a_partir_de_lista"
   ]
  },
  {
   "attachments": {},
   "cell_type": "markdown",
   "metadata": {},
   "source": [
    "Intersección (&): Obtiene los elementos comunes a ambos conjuntos."
   ]
  },
  {
   "cell_type": "code",
   "execution_count": null,
   "metadata": {},
   "outputs": [],
   "source": [
    "conjunto_interseccion = mi_conjunto & conjunto_a_partir_de_lista"
   ]
  },
  {
   "attachments": {},
   "cell_type": "markdown",
   "metadata": {},
   "source": [
    "Diferencia (-): Obtiene los elementos que están en un conjunto pero no en el otro."
   ]
  },
  {
   "cell_type": "code",
   "execution_count": null,
   "metadata": {},
   "outputs": [],
   "source": [
    "conjunto_diferencia = mi_conjunto - conjunto_a_partir_de_lista"
   ]
  },
  {
   "attachments": {},
   "cell_type": "markdown",
   "metadata": {},
   "source": [
    "Diferencia Simétrica (^): Obtiene los elementos que están en uno de los conjuntos pero no en ambos."
   ]
  },
  {
   "cell_type": "code",
   "execution_count": null,
   "metadata": {},
   "outputs": [],
   "source": [
    "conjunto_diferencia_simetrica = mi_conjunto ^ conjunto_a_partir_de_lista"
   ]
  },
  {
   "attachments": {},
   "cell_type": "markdown",
   "metadata": {},
   "source": [
    "#### Otras Operaciones y Métodos\n",
    "- clear(): Elimina todos los elementos del conjunto.\n",
    "\n",
    "- copy(): Crea una copia del conjunto.\n",
    "\n",
    "- issubset(): Determina si un conjunto es subconjunto de otro.\n",
    "\n",
    "- issuperset(): Determina si un conjunto es superconjunto de otro.\n",
    "\n",
    "- isdisjoint(): Determina si dos conjuntos no tienen elementos en común.\n"
   ]
  },
  {
   "attachments": {},
   "cell_type": "markdown",
   "metadata": {},
   "source": [
    "## Ejercicio: Análisis Actuarial de Riesgos\n",
    "Supongamos que trabajas en una compañía de seguros y necesitas realizar un análisis de riesgo de una cartera de pólizas. Tienes dos conjuntos de datos: uno es una lista de tuplas que representan pólizas de seguro, y el otro es un conjunto de IDs de pólizas que han tenido reclamaciones en el pasado.\n",
    "\n",
    "### Tu tarea es:\n",
    "\n",
    "- Crear un diccionario donde las claves sean los IDs de póliza y los valores sean un diccionario con información de la póliza (edad del asegurado y monto asegurado).\n",
    "- Utilizar comprensión de listas para filtrar las pólizas que han tenido reclamaciones.\n",
    "- Calcular el monto asegurado total y la edad promedio de los asegurados que han tenido reclamaciones."
   ]
  },
  {
   "cell_type": "code",
   "execution_count": null,
   "metadata": {},
   "outputs": [],
   "source": [
    "polizas = [\n",
    "    (\"P001\", 30, 200000),\n",
    "    (\"P002\", 40, 300000),\n",
    "    (\"P003\", 35, 250000),\n",
    "    (\"P004\", 45, 400000),\n",
    "    (\"P005\", 50, 500000)\n",
    "]\n",
    "\n",
    "reclamaciones = {\"P002\", \"P004\"}"
   ]
  },
  {
   "attachments": {},
   "cell_type": "markdown",
   "metadata": {},
   "source": [
    "### Solución\n",
    "Primero, creamos el diccionario con la información de las pólizas."
   ]
  },
  {
   "cell_type": "code",
   "execution_count": null,
   "metadata": {},
   "outputs": [],
   "source": [
    "dic_polizas = {id_poliza: {'edad': edad, 'monto': monto} for id_poliza, edad, monto in polizas}"
   ]
  },
  {
   "attachments": {},
   "cell_type": "markdown",
   "metadata": {},
   "source": [
    "Luego, usamos comprensión de listas para filtrar las pólizas con reclamaciones."
   ]
  },
  {
   "cell_type": "code",
   "execution_count": null,
   "metadata": {},
   "outputs": [],
   "source": [
    "polizas_con_reclamaciones = [dic_polizas[id_poliza] for id_poliza in reclamaciones]"
   ]
  },
  {
   "attachments": {},
   "cell_type": "markdown",
   "metadata": {},
   "source": [
    "Finalmente, calculamos el monto asegurado total y la edad promedio."
   ]
  },
  {
   "cell_type": "code",
   "execution_count": null,
   "metadata": {},
   "outputs": [],
   "source": [
    "total_monto_asegurado = sum(poliza['monto'] for poliza in polizas_con_reclamaciones)\n",
    "total_edades = sum(poliza['edad'] for poliza in polizas_con_reclamaciones)\n",
    "edad_promedio = total_edades / len(polizas_con_reclamaciones)\n",
    "\n",
    "print(f\"Monto asegurado total: {total_monto_asegurado}\")\n",
    "print(f\"Edad promedio: {edad_promedio}\")"
   ]
  }
 ],
 "metadata": {
  "kernelspec": {
   "display_name": "Python 3",
   "language": "python",
   "name": "python3"
  },
  "language_info": {
   "codemirror_mode": {
    "name": "ipython",
    "version": 3
   },
   "file_extension": ".py",
   "mimetype": "text/x-python",
   "name": "python",
   "nbconvert_exporter": "python",
   "pygments_lexer": "ipython3",
   "version": "3.8.9"
  },
  "orig_nbformat": 4
 },
 "nbformat": 4,
 "nbformat_minor": 2
}
