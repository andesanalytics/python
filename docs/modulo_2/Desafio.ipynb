{
 "cells": [
  {
   "attachments": {},
   "cell_type": "markdown",
   "metadata": {},
   "source": [
    "# Proyecto: Análisis y Proyección de Datos de Siniestralidad en Seguros"
   ]
  },
  {
   "attachments": {},
   "cell_type": "markdown",
   "metadata": {},
   "source": [
    "## Descripción\n",
    "Este proyecto se enfoca en analizar y proyectar datos de siniestralidad en seguros, utilizando Python y NumPy. Se trabajarán con datos históricos de siniestros, almacenados en archivos, para realizar proyecciones futuras y análisis estadísticos. Se usarán listas, tuplas, y diccionarios para el manejo de los datos, y se aplicarán operaciones básicas y funciones para el procesamiento y análisis.\n",
    "\n",
    "## Objetivos\n",
    "- Cargar y Procesar Datos de Siniestralidad: Leer datos desde archivos y organizarlos en estructuras de datos apropiadas (listas, tuplas, diccionarios).\n",
    "\n",
    "- Análisis Estadístico de los Datos: Utilizar NumPy para calcular estadísticas básicas de los datos (media, mediana, desviación estándar).\n",
    "\n",
    "- Proyección de Siniestros Futuros: Utilizar el método de cadena de reclamaciones para proyectar siniestros en años futuros.\n",
    "\n",
    "- Generar Reportes: Crear un informe que resuma los hallazgos y proyecciones."
   ]
  },
  {
   "attachments": {},
   "cell_type": "markdown",
   "metadata": {},
   "source": [
    "## Detalles de las Actividades\n",
    "\n",
    "### Cargar y Procesar Datos de Siniestralidad\n",
    "\n",
    "#### Leer Datos desde Archivos:\n",
    "\n",
    "- Utilizar pandas para leer el archivo CSV.\n",
    "- Inspeccionar los datos para verificar su integridad y formato.\n",
    "\n",
    "#### Organización de Datos:\n",
    "\n",
    "- Convertir los datos relevantes en listas o tuplas para su fácil manejo.\n",
    "- Crear diccionarios para mapear tipos de siniestros con su información correspondiente, como cantidad y costo total.\n",
    "\n",
    "### Análisis Estadístico de los Datos\n",
    "\n",
    "#### Cálculo de Estadísticas Básicas con NumPy:\n",
    "\n",
    "- Convertir las listas o tuplas a arrays de NumPy.\n",
    "- Calcular estadísticas como media, mediana y desviación estándar para diferentes categorías de siniestros.\n",
    "\n",
    "#### Análisis Exploratorio:\n",
    "\n",
    "- Identificar tendencias y patrones en los datos.\n",
    "- Realizar comparaciones año a año para entender el crecimiento o disminución en los tipos de siniestros.\n",
    "\n",
    "### Proyección de Siniestros Futuros\n",
    "\n",
    "#### Implementación del Método de Cadena de Reclamaciones:\n",
    "\n",
    "- Desarrollar una función en Python que aplique este método a los datos históricos.\n",
    "- Utilizar NumPy para manejar cálculos matriciales y proyecciones.\n",
    "\n",
    "#### Proyecciones Futuras:\n",
    "\n",
    "- Estimar los siniestros para los próximos años basados en los datos históricos y el método implementado.\n",
    "\n",
    "### Generar Reportes\n",
    "\n",
    "#### Creación de un Informe:\n",
    "\n",
    "- Redactar un documento que incluya el análisis realizado, los métodos utilizados y las proyecciones obtenidas.\n",
    "- Incluir gráficos y tablas para una mejor comprensión de los datos y resultados.\n",
    "\n",
    "#### Resumen de Hallazgos:\n",
    "\n",
    "- Destacar los puntos clave del análisis.\n",
    "- Ofrecer recomendaciones o insights basados en los datos analizados y proyecciones realizadas."
   ]
  },
  {
   "attachments": {},
   "cell_type": "markdown",
   "metadata": {},
   "source": [
    "## Rúbrica "
   ]
  },
  {
   "attachments": {},
   "cell_type": "markdown",
   "metadata": {},
   "source": [
    "| Actividad               | Nivel Básico (0-10 puntos) | Nivel Intermedio (11-20 puntos) | Nivel Avanzado (21-25 puntos) |\n",
    "|-------------------------|----------------------------|---------------------------------|------------------------------|\n",
    "| Cargar y Procesar Datos | Datos parcialmente cargados, procesamiento básico. | Datos completamente cargados, procesamiento adecuado. | Datos cargados y procesados eficientemente con estructuras óptimas. |\n",
    "| Análisis Estadístico    | Análisis básico, pocas estadísticas calculadas. | Análisis completo, todas las estadísticas calculadas. | Análisis profundo, estadísticas calculadas e interpretadas con claridad. |\n",
    "| Proyección de Siniestros | Proyecciones básicas, método simple. | Proyecciones completas, método adecuado. | Proyecciones avanzadas, aplicación precisa y análisis del método. |\n",
    "| Generar Reportes        | Reporte incompleto, poca claridad. | Reporte completo, buena claridad y estructura. | Reporte detallado, excelente presentación y análisis profundo. |\n",
    "\n",
    "*Tabla: Rúbrica de Evaluación del Proyecto*\n"
   ]
  },
  {
   "attachments": {},
   "cell_type": "markdown",
   "metadata": {},
   "source": [
    "## Datos "
   ]
  },
  {
   "attachments": {},
   "cell_type": "markdown",
   "metadata": {},
   "source": [
    "https://drive.google.com/file/d/1M3804ZuNj2XYX2Xdlo56SP520Ic6l6dB/view?usp=sharing"
   ]
  },
  {
   "cell_type": "markdown",
   "metadata": {},
   "source": []
  }
 ],
 "metadata": {
  "language_info": {
   "name": "python"
  },
  "orig_nbformat": 4
 },
 "nbformat": 4,
 "nbformat_minor": 2
}
