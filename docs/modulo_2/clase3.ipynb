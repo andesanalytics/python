{
 "cells": [
  {
   "attachments": {},
   "cell_type": "markdown",
   "metadata": {},
   "source": [
    "# Clase 3: Introducción a NumPy"
   ]
  },
  {
   "attachments": {},
   "cell_type": "markdown",
   "metadata": {},
   "source": [
    "<a href=\"https://colab.research.google.com/github/hizocar/python_andes_analytics/blob/main/docs/modulo_2/clase3.ipynb\" target=\"_parent\"><img src=\"https://colab.research.google.com/assets/colab-badge.svg\" alt=\"Open In Colab\"/></a>"
   ]
  },
  {
   "attachments": {},
   "cell_type": "markdown",
   "metadata": {},
   "source": [
    "NumPy, que significa \"Numerical Python\", es una de las bibliotecas más importantes en Python para el cálculo numérico. Su característica principal es la introducción de un potente objeto de arreglo multidimensional llamado ndarray. NumPy ofrece también diversas funciones para realizar operaciones matemáticas y lógicas, operaciones de álgebra lineal, transformadas de Fourier, y más, sobre estos arreglos.\n",
    "\n",
    "Aquí hay algunos conceptos básicos de NumPy con ejemplos:\n",
    "\n",
    "- Importación de NumPy: Para usar NumPy, primero necesitas importarlo, usualmente como np."
   ]
  },
  {
   "cell_type": "code",
   "execution_count": null,
   "metadata": {},
   "outputs": [],
   "source": [
    "import numpy as np"
   ]
  },
  {
   "attachments": {},
   "cell_type": "markdown",
   "metadata": {},
   "source": [
    "- Creación de Arreglos: Puedes crear arreglos NumPy desde listas de Python."
   ]
  },
  {
   "cell_type": "code",
   "execution_count": null,
   "metadata": {},
   "outputs": [],
   "source": [
    "arr = np.array([1, 2, 3, 4, 5])\n",
    "print(arr)"
   ]
  },
  {
   "attachments": {},
   "cell_type": "markdown",
   "metadata": {},
   "source": [
    "- Arreglos Multidimensionales: NumPy puede manejar arreglos de múltiples dimensiones."
   ]
  },
  {
   "cell_type": "code",
   "execution_count": null,
   "metadata": {},
   "outputs": [],
   "source": [
    "arr_2d = np.array([[1, 2, 3], [4, 5, 6]])\n",
    "print(arr_2d)"
   ]
  },
  {
   "attachments": {},
   "cell_type": "markdown",
   "metadata": {},
   "source": [
    "- Tipos de Datos en NumPy: NumPy decide automáticamente el tipo de datos, pero también puedes especificarlo manualmente."
   ]
  },
  {
   "cell_type": "code",
   "execution_count": null,
   "metadata": {},
   "outputs": [],
   "source": [
    "arr = np.array([1, 2, 3], dtype='float32')"
   ]
  },
  {
   "attachments": {},
   "cell_type": "markdown",
   "metadata": {},
   "source": [
    "- Acceso a Elementos y Rebanado: Accede a elementos específicos, filas, columnas y sub-arreglos como en listas Python."
   ]
  },
  {
   "cell_type": "code",
   "execution_count": null,
   "metadata": {},
   "outputs": [],
   "source": [
    "print(arr[0])         # primer elemento\n",
    "print(arr_2d[1, 2])   # tercer elemento de la segunda fila\n",
    "print(arr_2d[:, 1])   # segunda columna"
   ]
  },
  {
   "attachments": {},
   "cell_type": "markdown",
   "metadata": {},
   "source": [
    "- Operaciones Matemáticas: Puedes realizar operaciones matemáticas elemento a elemento."
   ]
  },
  {
   "cell_type": "code",
   "execution_count": null,
   "metadata": {},
   "outputs": [],
   "source": [
    "arr = np.array([1, 2, 3])\n",
    "print(arr + 2)\n",
    "print(arr * 3)"
   ]
  },
  {
   "attachments": {},
   "cell_type": "markdown",
   "metadata": {},
   "source": [
    "- Funciones de Agregación: NumPy proporciona funciones como sum, mean, max, etc."
   ]
  },
  {
   "cell_type": "code",
   "execution_count": null,
   "metadata": {},
   "outputs": [],
   "source": [
    "print(np.sum(arr))\n",
    "print(np.mean(arr))"
   ]
  },
  {
   "attachments": {},
   "cell_type": "markdown",
   "metadata": {},
   "source": [
    "- Cambio de Forma y Redimensionamiento: Cambia la forma de los arreglos sin cambiar sus datos."
   ]
  },
  {
   "cell_type": "code",
   "execution_count": null,
   "metadata": {},
   "outputs": [],
   "source": [
    "arr = np.array([1, 2, 3, 4, 5, 6])\n",
    "reshaped_arr = arr.reshape(2, 3)\n",
    "print(reshaped_arr)"
   ]
  },
  {
   "attachments": {},
   "cell_type": "markdown",
   "metadata": {},
   "source": [
    "- Álgebra Lineal: NumPy tiene un submódulo linalg para operaciones de álgebra lineal."
   ]
  },
  {
   "cell_type": "code",
   "execution_count": null,
   "metadata": {},
   "outputs": [],
   "source": [
    "print(np.linalg.inv(arr_2d))  # inversa de una matriz"
   ]
  },
  {
   "attachments": {},
   "cell_type": "markdown",
   "metadata": {},
   "source": [
    "- Funciones Matemáticas Universales (ufunc): Funciones que operan en ndarray de manera elemento a elemento."
   ]
  },
  {
   "cell_type": "code",
   "execution_count": null,
   "metadata": {},
   "outputs": [],
   "source": [
    "print(np.sqrt(arr))"
   ]
  },
  {
   "attachments": {},
   "cell_type": "markdown",
   "metadata": {},
   "source": [
    "## Creación y Manejo de Arrays\n",
    "### Creación de Arrays:\n",
    "\n",
    "Desde Listas de Python: Como ya vimos, se pueden crear arrays desde listas."
   ]
  },
  {
   "cell_type": "code",
   "execution_count": null,
   "metadata": {},
   "outputs": [],
   "source": [
    "arr = np.array([1, 2, 3])"
   ]
  },
  {
   "attachments": {},
   "cell_type": "markdown",
   "metadata": {},
   "source": [
    "Arrays de Ceros y Unos: Útiles para inicializaciones."
   ]
  },
  {
   "cell_type": "code",
   "execution_count": null,
   "metadata": {},
   "outputs": [],
   "source": [
    "zeros = np.zeros((3, 3))  # matriz 3x3 de ceros\n",
    "ones = np.ones((2, 2))    # matriz 2x2 de unos"
   ]
  },
  {
   "attachments": {},
   "cell_type": "markdown",
   "metadata": {},
   "source": [
    "Array de un Rango de Valores: Similar a la función range en Python."
   ]
  },
  {
   "cell_type": "code",
   "execution_count": null,
   "metadata": {},
   "outputs": [],
   "source": [
    "range_array = np.arange(10)  # array de 0 a 9\n"
   ]
  },
  {
   "attachments": {},
   "cell_type": "markdown",
   "metadata": {},
   "source": [
    "Arrays de Valores Aleatorios: Crear arrays con valores aleatorios.\n"
   ]
  },
  {
   "cell_type": "code",
   "execution_count": null,
   "metadata": {},
   "outputs": [],
   "source": [
    "random_array = np.random.random((2, 2))  # array 2x2 de valores aleatorios\n"
   ]
  },
  {
   "attachments": {},
   "cell_type": "markdown",
   "metadata": {},
   "source": [
    "### Manejo de Arrays:\n",
    "\n",
    "Cambiar Forma (reshape): Modifica la forma sin cambiar los datos"
   ]
  },
  {
   "cell_type": "code",
   "execution_count": null,
   "metadata": {},
   "outputs": [],
   "source": [
    "arr = np.arange(6)\n",
    "reshaped = arr.reshape((2, 3))  # cambia a matriz 2x3"
   ]
  },
  {
   "attachments": {},
   "cell_type": "markdown",
   "metadata": {},
   "source": [
    "Transposición (transpose): Intercambia filas por columnas"
   ]
  },
  {
   "cell_type": "code",
   "execution_count": null,
   "metadata": {},
   "outputs": [],
   "source": [
    "transposed = reshaped.transpose()\n"
   ]
  },
  {
   "attachments": {},
   "cell_type": "markdown",
   "metadata": {},
   "source": [
    "Redimensionar (resize): Cambia la forma, rellenando con ceros si es necesario.\n"
   ]
  },
  {
   "cell_type": "code",
   "execution_count": null,
   "metadata": {},
   "outputs": [],
   "source": [
    "resized = np.resize(arr, (3, 3))  # redimensiona a 3x3\n"
   ]
  },
  {
   "attachments": {},
   "cell_type": "markdown",
   "metadata": {},
   "source": [
    "## Operaciones Básicas\n",
    "### Índices y Slicing:\n",
    "\n",
    "Acceso por Índice: Similar a las listas en Python"
   ]
  },
  {
   "cell_type": "code",
   "execution_count": null,
   "metadata": {},
   "outputs": [],
   "source": [
    "arr = np.array([10, 20, 30, 40, 50])\n",
    "print(arr[0])  # 10\n",
    "print(arr[-1]) # 50"
   ]
  },
  {
   "attachments": {},
   "cell_type": "markdown",
   "metadata": {},
   "source": [
    "Slicing: Seleccionar un rango de elementos"
   ]
  },
  {
   "cell_type": "code",
   "execution_count": null,
   "metadata": {},
   "outputs": [],
   "source": [
    "sliced = arr[1:4]  # elementos del índice 1 al 3\n"
   ]
  },
  {
   "attachments": {},
   "cell_type": "markdown",
   "metadata": {},
   "source": [
    "Slicing Multidimensional: Puedes hacer slicing en múltiples dimensiones.\n"
   ]
  },
  {
   "cell_type": "code",
   "execution_count": null,
   "metadata": {},
   "outputs": [],
   "source": [
    "arr_2d = np.array([[1, 2, 3], [4, 5, 6], [7, 8, 9]])\n",
    "sub_array = arr_2d[:2, 1:]  # primeras 2 filas, columnas desde la segunda\n"
   ]
  },
  {
   "attachments": {},
   "cell_type": "markdown",
   "metadata": {},
   "source": [
    "## Vectorización\n",
    "La vectorización en NumPy se refiere al uso de operaciones que actúan en arrays enteros en lugar de sus elementos individuales. Este enfoque es mucho más eficiente que usar bucles for tradicionales en Python, especialmente para arrays grandes, debido a varias razones:\n",
    "\n",
    "- Menos Código Escrito: Las operaciones vectorizadas reducen la cantidad de código necesario para realizar operaciones matemáticas complejas.\n",
    "\n",
    "- Eficiencia: NumPy está implementado en C, lo que significa que las operaciones vectorizadas pueden aprovechar las optimizaciones de bajo nivel y la paralelización en el hardware.\n",
    "\n",
    "- Legibilidad: El código vectorizado es a menudo más legible y conciso.\n",
    "\n",
    "- Uso Eficiente de la Memoria: Las operaciones vectorizadas en NumPy utilizan menos memoria al evitar bucles temporales y otros constructos de alto nivel.\n",
    "\n",
    "### Ejemplos de Vectorización en NumPy\n",
    "Vamos a ver algunos ejemplos que ilustran cómo la vectorización puede hacer que las operaciones sean más eficientes y fáciles de entender.\n",
    "\n",
    "- Ejemplo 1: Operaciones Aritméticas\n",
    "Sin vectorización, si queremos sumar dos listas elemento por elemento, necesitamos un bucle:"
   ]
  },
  {
   "cell_type": "code",
   "execution_count": null,
   "metadata": {},
   "outputs": [],
   "source": [
    "a = [1, 2, 3, 4, 5]\n",
    "b = [6, 7, 8, 9, 10]\n",
    "suma = [a[i] + b[i] for i in range(len(a))]\n"
   ]
  },
  {
   "attachments": {},
   "cell_type": "markdown",
   "metadata": {},
   "source": [
    "Con NumPy, esto se simplifica enormemente:"
   ]
  },
  {
   "cell_type": "code",
   "execution_count": null,
   "metadata": {},
   "outputs": [],
   "source": [
    "a = np.array([1, 2, 3, 4, 5])\n",
    "b = np.array([6, 7, 8, 9, 10])\n",
    "suma = a + b"
   ]
  },
  {
   "attachments": {},
   "cell_type": "markdown",
   "metadata": {},
   "source": [
    "- Ejemplo 2: Aplicar una Función a Cada Elemento\n",
    "Supongamos que queremos calcular el seno de una serie de valores. Sin NumPy, podríamos hacer:"
   ]
  },
  {
   "cell_type": "code",
   "execution_count": null,
   "metadata": {},
   "outputs": [],
   "source": [
    "import math\n",
    "valores = [0, π/2, π]\n",
    "seno_valores = [math.sin(val) for val in valores]"
   ]
  },
  {
   "attachments": {},
   "cell_type": "markdown",
   "metadata": {},
   "source": [
    "Con NumPy, podemos vectorizar esta operación:"
   ]
  },
  {
   "cell_type": "code",
   "execution_count": null,
   "metadata": {},
   "outputs": [],
   "source": [
    "valores = np.array([0, np.pi/2, np.pi])\n",
    "seno_valores = np.sin(valores)"
   ]
  },
  {
   "attachments": {},
   "cell_type": "markdown",
   "metadata": {},
   "source": [
    "- Ejemplo 3: Operaciones Condicionales\n",
    "Vectorizar operaciones que involucran condiciones también es posible con NumPy. Por ejemplo, reemplazar todos los elementos mayores que un umbral con un valor fijo:"
   ]
  },
  {
   "cell_type": "code",
   "execution_count": null,
   "metadata": {},
   "outputs": [],
   "source": [
    "arr = np.array([1, 5, 10, 15, 20])\n",
    "arr[arr > 10] = 0  # Reemplaza elementos mayores a 10 con 0"
   ]
  },
  {
   "attachments": {},
   "cell_type": "markdown",
   "metadata": {},
   "source": [
    "- Ejemplo 4: Productos y Operaciones Matriciales\n",
    "Las operaciones matriciales son naturalmente vectorizadas y eficientes en NumPy:"
   ]
  },
  {
   "cell_type": "code",
   "execution_count": null,
   "metadata": {},
   "outputs": [],
   "source": [
    "matriz1 = np.array([[1, 2], [3, 4]])\n",
    "matriz2 = np.array([[5, 6], [7, 8]])\n",
    "\n",
    "# Producto punto\n",
    "producto = np.dot(matriz1, matriz2)\n",
    "\n",
    "# Multiplicación elemento a elemento\n",
    "elementwise = matriz1 * matriz2\n"
   ]
  },
  {
   "attachments": {},
   "cell_type": "markdown",
   "metadata": {},
   "source": [
    "- Ejemplo 5: Reducción y Estadísticas\n",
    "Funciones de reducción como sum, mean, max, etc., son más eficientes y fáciles de usar:"
   ]
  },
  {
   "cell_type": "code",
   "execution_count": null,
   "metadata": {},
   "outputs": [],
   "source": [
    "arr = np.array([1, 2, 3, 4, 5])\n",
    "\n",
    "# Suma de todos los elementos\n",
    "total = np.sum(arr)\n",
    "\n",
    "# Promedio\n",
    "promedio = np.mean(arr)\n"
   ]
  },
  {
   "attachments": {},
   "cell_type": "markdown",
   "metadata": {},
   "source": [
    "## Ejercicio: Valor Presente de una Anualidad con Pagos Variables\n",
    "### Problema: Supongamos que una anualidad realiza pagos anuales durante 10 años. Los pagos crecen linealmente cada año, comenzando en $100 el primer año y aumentando $50 cada año subsiguiente. Si la tasa de interés es del 5% anual, ¿cuál es el valor presente de esta anualidad?\n",
    "\n",
    "### Solución:\n",
    "\n",
    "- Definir los Pagos Anuales: Los pagos son una secuencia que comienza en $100 y aumenta $50 cada año. Podemos representar esto con un array en NumPy.\n",
    "\n",
    "- Calcular el Factor de Descuento para Cada Año: El valor presente de cada pago se calcula como Pago / (1 + tasa) ** año. Necesitamos calcular este factor para cada año.\n",
    "\n",
    "- Calcular el Valor Presente Total: Sumamos el valor presente de cada pago.\n",
    "\n",
    "- Primero, definimos los pagos y luego realizamos los cálculos necesarios."
   ]
  },
  {
   "cell_type": "code",
   "execution_count": null,
   "metadata": {},
   "outputs": [],
   "source": [
    "import numpy as np\n",
    "\n",
    "# Definir los parámetros\n",
    "tasa_interes = 0.05\n",
    "num_años = 10\n",
    "incremento_pago = 50\n",
    "\n",
    "# Crear un array con los pagos anuales\n",
    "pagos = np.arange(100, 100 + incremento_pago * num_años, incremento_pago)\n",
    "\n",
    "# Crear un array con los factores de descuento para cada año\n",
    "factores_descuento = (1 + tasa_interes) ** np.arange(1, num_años + 1)\n",
    "\n",
    "# Calcular el valor presente de cada pago\n",
    "valores_presentes = pagos / factores_descuento\n",
    "\n",
    "# Sumar todos los valores presentes para obtener el valor presente total de la anualidad\n",
    "valor_presente_total = np.sum(valores_presentes)\n",
    "\n",
    "print(f\"El valor presente de la anualidad es: ${valor_presente_total:.2f}\")"
   ]
  },
  {
   "attachments": {},
   "cell_type": "markdown",
   "metadata": {},
   "source": [
    "## Ejercicio: Cálculo de Reserva de Seguros con el Método de Cadena de Reclamaciones\n",
    "### Problema: Se nos proporciona un triángulo de datos de siniestralidad para un seguro de no vida a lo largo de 5 años. Necesitamos calcular las reservas futuras utilizando el método de cadena de reclamaciones.\n",
    "\n",
    "El triángulo de siniestralidad proporcionado (en miles de dólares) es como sigue:\n",
    "\n"
   ]
  },
  {
   "attachments": {},
   "cell_type": "markdown",
   "metadata": {},
   "source": [
    "\\begin{array}{|c|c|c|c|c|c|}\n",
    "\\hline\n",
    "\\text{Año de ocurrencia} \\ \\text{Año de desarrollo} & 1 & 2 & 3 & 4 & 5 \\\\\n",
    "\\hline\n",
    "1 & 100 & 150 & 180 & 200 & 210 \\\\\n",
    "2 & 120 & 180 & 210 & 230 & - \\\\\n",
    "3 & 130 & 195 & 225 & - & - \\\\\n",
    "4 & 140 & 210 & - & - & - \\\\\n",
    "5 & 150 & - & - & - & - \\\\\n",
    "\\hline\n",
    "\\end{array}\n"
   ]
  },
  {
   "attachments": {},
   "cell_type": "markdown",
   "metadata": {},
   "source": [
    "### Solución:\n",
    "\n",
    "- Crear una Función para Calcular Factores de Desarrollo: Calculamos los factores de desarrollo para cada año.\n",
    "\n",
    "- Proyectar los Valores Futuros: Usamos los factores para estimar los valores futuros en el triángulo.\n",
    "\n",
    "- Calcular la Reserva Total: La reserva es la suma de las proyecciones futuras.\n",
    "\n",
    "Primero, definimos el triángulo de siniestralidad y luego implementamos los pasos necesarios."
   ]
  },
  {
   "cell_type": "code",
   "execution_count": null,
   "metadata": {},
   "outputs": [],
   "source": [
    "import numpy as np\n",
    "\n",
    "# Datos del triángulo de siniestralidad\n",
    "siniestralidad = np.array([\n",
    "    [100, 150, 180, 200, 210],\n",
    "    [120, 180, 210, 230, np.nan],\n",
    "    [130, 195, 225, np.nan, np.nan],\n",
    "    [140, 210, np.nan, np.nan, np.nan],\n",
    "    [150, np.nan, np.nan, np.nan, np.nan]\n",
    "])\n",
    "\n",
    "# Función para calcular los factores de desarrollo\n",
    "def calcular_factores_desarrollo(triangulo):\n",
    "    factores = []\n",
    "    for i in range(triangulo.shape[1] - 1):\n",
    "        pagos_previos = triangulo[:, i][~np.isnan(triangulo[:, i])]\n",
    "        pagos_actuales = triangulo[:, i + 1][~np.isnan(triangulo[:, i + 1])]\n",
    "        if len(pagos_previos) > 0:\n",
    "            factor = np.sum(pagos_actuales) / np.sum(pagos_previos)\n",
    "            factores.append(factor)\n",
    "        else:\n",
    "            factores.append(np.nan)\n",
    "    return np.array(factores)\n",
    "\n",
    "# Calcular los factores de desarrollo\n",
    "factores = calcular_factores_desarrollo(siniestralidad)\n",
    "\n",
    "# Función para proyectar los valores futuros\n",
    "def proyectar_valores(triangulo, factores):\n",
    "    proyecciones = np.copy(triangulo)\n",
    "    for i in range(proyecciones.shape[0]):\n",
    "        for j in range(proyecciones.shape[1]):\n",
    "            if np.isnan(proyecciones[i, j]):\n",
    "                proyecciones[i, j] = proyecciones[i, j - 1] * factores[j - 1]\n",
    "    return proyecciones\n",
    "\n",
    "# Proyectar los valores futuros\n",
    "proyecciones = proyectar_valores(siniestralidad, factores)\n",
    "\n",
    "# Calcular la reserva total\n",
    "reserva_total = np.nansum(proyecciones) - np.nansum(siniestralidad)\n",
    "\n",
    "print(f\"La reserva total estimada es: ${reserva_total:.2f} miles\")\n"
   ]
  },
  {
   "cell_type": "markdown",
   "metadata": {},
   "source": []
  }
 ],
 "metadata": {
  "kernelspec": {
   "display_name": "Python 3",
   "language": "python",
   "name": "python3"
  },
  "language_info": {
   "codemirror_mode": {
    "name": "ipython",
    "version": 3
   },
   "file_extension": ".py",
   "mimetype": "text/x-python",
   "name": "python",
   "nbconvert_exporter": "python",
   "pygments_lexer": "ipython3",
   "version": "3.8.9"
  },
  "orig_nbformat": 4
 },
 "nbformat": 4,
 "nbformat_minor": 2
}
