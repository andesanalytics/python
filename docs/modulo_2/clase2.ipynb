{
 "cells": [
  {
   "attachments": {},
   "cell_type": "markdown",
   "metadata": {},
   "source": [
    "# Clase 2: Manejo de archivos"
   ]
  },
  {
   "attachments": {},
   "cell_type": "markdown",
   "metadata": {},
   "source": [
    "<a href=\"https://colab.research.google.com/github/hizocar/python_andes_analytics/blob/main/docs/modulo_2/clase2.ipynb\" target=\"_parent\"><img src=\"https://colab.research.google.com/assets/colab-badge.svg\" alt=\"Open In Colab\"/></a>"
   ]
  },
  {
   "attachments": {},
   "cell_type": "markdown",
   "metadata": {},
   "source": [
    "## Lectura de Archivos\n",
    "Abrir un archivo: Usas open(filename, mode) donde filename es el nombre del archivo y mode es 'r' para lectura. Por ejemplo: file = open('example.txt', 'r').\n",
    "\n",
    "### Leer el contenido: Hay varias maneras de leer el contenido:\n",
    "\n",
    "- file.read(): Lee el contenido completo del archivo.\n",
    "- file.readline(): Lee una línea cada vez.\n",
    "- file.readlines(): Lee todas las líneas y las devuelve como una lista.\n",
    "- Cerrar el archivo: Siempre debes cerrar el archivo después de leerlo usando file.close()."
   ]
  },
  {
   "cell_type": "code",
   "execution_count": null,
   "metadata": {},
   "outputs": [],
   "source": [
    "# Abrir el archivo en modo de lectura\n",
    "with open('example.txt', 'r') as file:\n",
    "    content = file.read()\n",
    "    print(content)"
   ]
  },
  {
   "attachments": {},
   "cell_type": "markdown",
   "metadata": {},
   "source": [
    "## Escritura de Archivos\n",
    "Abrir un archivo: Para escribir, usas open(filename, mode) donde mode es 'w' para escritura. Si el archivo no existe, se crea. \n",
    "Por ejemplo: file = open('example.txt', 'w').\n",
    "\n",
    "### Escribir en el archivo: \n",
    "Utiliza file.write(texto) para escribir en el archivo.\n",
    "\n",
    "- Cerrar el archivo: No olvides cerrar el archivo con file.close() después de escribir."
   ]
  },
  {
   "cell_type": "code",
   "execution_count": null,
   "metadata": {},
   "outputs": [],
   "source": [
    "# Abrir el archivo en modo de escritura\n",
    "with open('example.txt', 'w') as file:\n",
    "    file.write('Hola, mundo!')"
   ]
  },
  {
   "attachments": {},
   "cell_type": "markdown",
   "metadata": {},
   "source": [
    "## Uso del with\n",
    "En los ejemplos anteriores, he utilizado la declaración with para manejar el archivo. Esto es una práctica recomendada porque se encarga de cerrar el archivo automáticamente después de salir del bloque with, incluso si ocurre una excepción.\n",
    "\n",
    "## Modos Adicionales\n",
    "- 'a': Modo de anexar. Si el archivo existe, coloca el puntero al final del archivo. Si no existe, crea un nuevo archivo para escritura.\n",
    "- 'r+': Modo de lectura y escritura. El archivo debe existir.\n",
    "- 'b': Se añade a otros modos para manejar archivos binarios (ej: 'rb', 'wb').\n",
    "## Manejo de Excepciones\n",
    "Es buena práctica manejar excepciones al trabajar con archivos para evitar errores en tiempo de ejecución. Puedes usar bloques try-except para esto."
   ]
  },
  {
   "cell_type": "code",
   "execution_count": null,
   "metadata": {},
   "outputs": [],
   "source": [
    "try:\n",
    "    with open('non_existent_file.txt', 'r') as file:\n",
    "        content = file.read()\n",
    "except FileNotFoundError:\n",
    "    print(\"El archivo no existe\")"
   ]
  },
  {
   "attachments": {},
   "cell_type": "markdown",
   "metadata": {},
   "source": [
    "## Archivos de Texto Plano (.txt)\n",
    "Para leer un archivo de texto, usas la función open() con el modo 'r'.\n",
    "\n",
    "Ejemplo:"
   ]
  },
  {
   "cell_type": "code",
   "execution_count": null,
   "metadata": {},
   "outputs": [],
   "source": [
    "# Leer todo el contenido del archivo\n",
    "with open('archivo.txt', 'r') as archivo:\n",
    "    contenido = archivo.read()\n",
    "    print(contenido)\n",
    "\n",
    "# Leer el archivo línea por línea\n",
    "with open('archivo.txt', 'r') as archivo:\n",
    "    for linea in archivo:\n",
    "        print(linea.strip())  # strip() elimina los saltos de línea al final\n"
   ]
  },
  {
   "attachments": {},
   "cell_type": "markdown",
   "metadata": {},
   "source": [
    "## Archivos CSV (.csv)\n",
    "Para leer y escribir archivos CSV, puedes utilizar el módulo csv.\n",
    "\n",
    "Ejemplo:"
   ]
  },
  {
   "cell_type": "code",
   "execution_count": null,
   "metadata": {},
   "outputs": [],
   "source": [
    "import csv\n",
    "\n",
    "# Leer un archivo CSV\n",
    "with open('datos.csv', mode='r') as archivo:\n",
    "    lector_csv = csv.reader(archivo)\n",
    "    for fila in lector_csv:\n",
    "        print(fila)  # fila es una lista con los campos\n",
    "\n",
    "# Escribir en un archivo CSV\n",
    "with open('datos.csv', mode='w', newline='') as archivo:\n",
    "    escritor_csv = csv.writer(archivo)\n",
    "    escritor_csv.writerow(['nombre', 'departamento', 'fecha_ingreso'])\n",
    "    escritor_csv.writerow(['Juan Pérez', 'Ventas', '15/02/2020'])\n"
   ]
  },
  {
   "attachments": {},
   "cell_type": "markdown",
   "metadata": {},
   "source": [
    "## Archivos JSON (.json)\n",
    "El módulo json se utiliza para leer y escribir archivos JSON."
   ]
  },
  {
   "cell_type": "code",
   "execution_count": null,
   "metadata": {},
   "outputs": [],
   "source": [
    "import json\n",
    "\n",
    "# Leer un archivo JSON\n",
    "with open('datos.json', 'r') as archivo:\n",
    "    datos = json.load(archivo)\n",
    "    print(datos)\n",
    "\n",
    "# Escribir en un archivo JSON\n",
    "with open('datos.json', 'w') as archivo:\n",
    "    json.dump({\"nombre\": \"Ana\", \"edad\": 30}, archivo, indent=4)\n"
   ]
  },
  {
   "attachments": {},
   "cell_type": "markdown",
   "metadata": {},
   "source": [
    "## Archivos Excel (.xlsx)\n",
    "Para trabajar con archivos Excel, puedes usar la biblioteca openpyxl para archivos .xlsx."
   ]
  },
  {
   "cell_type": "code",
   "execution_count": null,
   "metadata": {},
   "outputs": [],
   "source": [
    "from openpyxl import load_workbook\n",
    "\n",
    "# Leer un archivo Excel\n",
    "wb = load_workbook('datos.xlsx')\n",
    "hoja = wb.active\n",
    "for fila in hoja.iter_rows(values_only=True):\n",
    "    print(fila)\n",
    "\n",
    "# Escribir en un archivo Excel\n",
    "from openpyxl import Workbook\n",
    "wb = Workbook()\n",
    "hoja = wb.active\n",
    "hoja['A1'] = 'Nombre'\n",
    "hoja['B1'] = 'Edad'\n",
    "hoja.append(['Carlos', 34])\n",
    "wb.save('nuevos_datos.xlsx')\n"
   ]
  },
  {
   "attachments": {},
   "cell_type": "markdown",
   "metadata": {},
   "source": [
    "## Archivos XML (.xml)\n",
    "Para leer y escribir archivos XML, puedes utilizar el módulo xml.etree.ElementTree.\n",
    "\n",
    "Ejemplo:"
   ]
  },
  {
   "cell_type": "code",
   "execution_count": null,
   "metadata": {},
   "outputs": [],
   "source": [
    "import xml.etree.ElementTree as ET\n",
    "\n",
    "# Leer un archivo XML\n",
    "tree = ET.parse('datos.xml')\n",
    "root = tree.getroot()\n",
    "for hijo in root:\n",
    "    print(hijo.tag, hijo.attrib)\n",
    "\n",
    "# Escribir en un archivo XML\n",
    "raiz = ET.Element(\"datos\")\n",
    "empleado = ET.SubElement(raiz, \"empleado\", nombre=\"Juan\")\n",
    "ET.SubElement(empleado, \"edad\").text = '30'\n",
    "arbol = ET.ElementTree(raiz)\n",
    "arbol.write(\"nuevos_datos.xml\")"
   ]
  },
  {
   "attachments": {},
   "cell_type": "markdown",
   "metadata": {},
   "source": [
    "## Archivos de Imagen\n",
    "Para trabajar con imágenes, puedes usar la biblioteca Pillow.\n",
    "\n",
    "Ejemplo:"
   ]
  },
  {
   "cell_type": "code",
   "execution_count": null,
   "metadata": {},
   "outputs": [],
   "source": [
    "from PIL import Image\n",
    "\n",
    "# Abrir una imagen\n",
    "imagen = Image.open('foto.jpg')\n",
    "imagen.show()\n",
    "\n",
    "# Guardar una imagen en otro formato\n",
    "imagen.save('foto.png')\n"
   ]
  },
  {
   "attachments": {},
   "cell_type": "markdown",
   "metadata": {},
   "source": [
    "Para usar Pillow, necesitarás instalar la biblioteca primero con pip install Pillow.\n",
    "\n",
    "Estos ejemplos te dan una base sobre cómo manejar diferentes tipos de archivos en Python. Cada formato puede tener particularidades y para tareas más avanzadas es recomendable consultar la documentación de cada módulo o biblioteca."
   ]
  },
  {
   "attachments": {},
   "cell_type": "markdown",
   "metadata": {},
   "source": [
    "## Ejercicio guiado "
   ]
  },
  {
   "attachments": {},
   "cell_type": "markdown",
   "metadata": {},
   "source": [
    "Imaginemos que estamos trabajando en el contexto del actuariado y necesitamos manejar datos de pólizas de seguros. Vamos a crear un diccionario que contenga información sobre una póliza, lo modificaremos añadiendo más información y luego guardaremos este diccionario en un archivo CSV, un archivo de texto plano y un archivo Excel.\n",
    "\n",
    "Primero, instalaremos las librerías necesarias si aún no están instaladas en tu sistema. Para instalar openpyxl y csv, generalmente usarías pip desde la línea de comandos así:"
   ]
  },
  {
   "cell_type": "code",
   "execution_count": null,
   "metadata": {},
   "outputs": [],
   "source": [
    "pip install openpyxl"
   ]
  },
  {
   "attachments": {},
   "cell_type": "markdown",
   "metadata": {},
   "source": [
    "Dado que en este entorno no puedo instalar paquetes, voy a asumir que ya están instalados para la ejecución del código.\n",
    "\n",
    "A continuación, te muestro el código Python que realiza lo que has solicitado:"
   ]
  },
  {
   "cell_type": "code",
   "execution_count": 1,
   "metadata": {},
   "outputs": [],
   "source": [
    "import csv\n",
    "from openpyxl import Workbook\n",
    "\n",
    "# Crear un diccionario con datos de una póliza de seguros\n",
    "poliza = {\n",
    "    'NumeroPoliza': '12345ABC',\n",
    "    'NombreAsegurado': 'Juan Pérez',\n",
    "    'Prima': 350.75,\n",
    "    'Cobertura': 'Total'\n",
    "}\n",
    "\n",
    "# Modificar el diccionario añadiendo más información\n",
    "poliza.update({\n",
    "    'Deducible': 500,\n",
    "    'FechaInicio': '2024-01-01',\n",
    "    'FechaFin': '2025-01-01'\n",
    "})\n",
    "\n",
    "# Guardar el diccionario en un archivo CSV\n",
    "with open('poliza.csv', 'w', newline='') as archivo_csv:\n",
    "    writer = csv.DictWriter(archivo_csv, fieldnames=poliza.keys())\n",
    "    writer.writeheader()\n",
    "    writer.writerow(poliza)\n",
    "\n",
    "# Guardar el diccionario en un archivo de texto plano\n",
    "with open('poliza.txt', 'w') as archivo_txt:\n",
    "    for key, value in poliza.items():\n",
    "        archivo_txt.write(f'{key}: {value}\\n')\n",
    "\n",
    "# Guardar el diccionario en un archivo Excel\n",
    "wb = Workbook()\n",
    "hoja = wb.active\n",
    "hoja.append(list(poliza.keys()))  # Encabezados\n",
    "hoja.append(list(poliza.values()))  # Valores\n",
    "wb.save('poliza.xlsx')"
   ]
  }
 ],
 "metadata": {
  "kernelspec": {
   "display_name": "Python 3",
   "language": "python",
   "name": "python3"
  },
  "language_info": {
   "codemirror_mode": {
    "name": "ipython",
    "version": 3
   },
   "file_extension": ".py",
   "mimetype": "text/x-python",
   "name": "python",
   "nbconvert_exporter": "python",
   "pygments_lexer": "ipython3",
   "version": "3.8.9"
  },
  "orig_nbformat": 4
 },
 "nbformat": 4,
 "nbformat_minor": 2
}
