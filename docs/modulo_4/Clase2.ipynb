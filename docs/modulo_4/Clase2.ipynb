{
 "cells": [
  {
   "cell_type": "markdown",
   "id": "d62f3fac",
   "metadata": {},
   "source": [
    "# Clase 2: Librería Chainladder\n",
    "\n",
    "<a href=\"https://colab.research.google.com/github/andesanalytics/python/blob/main/docs/modulo_4/Clase2.ipynb\" target=\"_parent\"><img src=\"https://colab.research.google.com/assets/colab-badge.svg\" alt=\"Open In Colab\"/></a>\n",
    "\n",
    "## Introducción a Chainladder\n",
    "\n",
    "+ La biblioteca `chainladder` de Python es una herramienta utilizada en el análisis actuarial, \n",
    "principalmente en el ámbito de seguros. \n",
    "\n",
    "+ Su principal función es ayudar en la estimación de reservas de siniestros ocurridos y no reportados. \n",
    "\n",
    "+ La librería posee multiples técnicas de proyección, que se basan en el análisis de triángulos de desarrollo de pérdidas, que \n",
    "permiten proyectar los siniestros futuros basados en los datos históricos\n"
   ]
  },
  {
   "cell_type": "markdown",
   "id": "891e523f",
   "metadata": {},
   "source": [
    "\n",
    "## Instalación y Configuración\n",
    "\n",
    "Para instalar la biblioteca `chainladder`, ejecuta el siguiente comando en tu entorno Python:\n"
   ]
  },
  {
   "cell_type": "code",
   "execution_count": null,
   "id": "1c5f2e20",
   "metadata": {},
   "outputs": [],
   "source": [
    "pip install chainladder"
   ]
  },
  {
   "cell_type": "markdown",
   "id": "62fe5f27",
   "metadata": {},
   "source": [
    "Una vez instalada, puedes importarla y verificar su versión para asegurarte de que está correctamente instalada:"
   ]
  },
  {
   "cell_type": "code",
   "execution_count": null,
   "id": "c9b898f6",
   "metadata": {},
   "outputs": [],
   "source": [
    "import chainladder as cl\n",
    "print(cl.__version__)"
   ]
  },
  {
   "cell_type": "markdown",
   "id": "69c38534",
   "metadata": {},
   "source": [
    "\n",
    "## Manejo de Datos con Chainladder\n",
    "+ El paquete chainladder tiene su propia estructura de datos `:class:Triangle` que se comporta de manera muy similar a un `DataFrame` de ``pandas``\n",
    "+ Por qué no ``pandas``? Principalmente porque podemos manejar multiples triángulos al mismo tiempo, junto con la eficiencia en memoria\n",
    "+ La estructura `Triangle` es una estructura de datos en 4D con ejes etiquetados. Estos ejes son ``index``, ``columns``, ``origin``, ``development``\n",
    "\n",
    "\n",
    "``index`` (axis 0): Es la agrupación mínima a la cual se requiera ver los datos (por ejemplo por producto, tipo de negocio, ramo fecu). Tal como en ``pandas.multiIndex``, se pueden tener más de una columa dentro de `index`\n",
    "\n",
    "``columns`` (axis 1): Son el o los valores numéricos que deseas agrupar en triángulo. Si bien el valor obvio a acumular es el de siniestros pagados, también puedes tener otros triángulos como el número de siniestros, o los siniestros pendientes por ejemplo.\n",
    "\n",
    "``origin`` (axis 2): Es el eje vertical dentro de un triángulo tradicional. Corresponde al mes, trimestre, semestre o año en el cual ocurrió el siniestro. La periodicidad se puede definir por el usuario.\n",
    "\n",
    "``development`` (axis 3): Es el eje horizontal del triángulo. Representa el periodo en que el siniestro fue reportado. Al igual que el indice `origin` se puede tomar la periodicidad mensual, trimestral, semestral, anual.\n",
    "\n",
    "### ¿Cómo se trabaja con una clase ``Triangle``?\n",
    "+ Independiente de poseer 4 dimensiones, esta clase permite que se interactúe con él de la misma manera que en `pandas`. Puedes usar los índices `index` y `columns` de la misma manera que en un `DataFrame`, donde cada elemento será un triángulo tradicional.\n",
    "\n",
    "\n",
    "\n",
    "\n",
    "\n",
    "\n",
    "\n",
    "### ¿Cómo se construye una clase ``Triangle``?\n",
    "\n",
    "+ Una clase `Triangle` se crea a partir de un `DataFrame` de `pandas`, el cuál debe poseer como mínimo las siguientes columnas.\n",
    "    * Dos columnas de tipo fecha que representen los ejes ``origin`` y ``development``.\n",
    "    * Una columna numérica que represente el eje ``columns``\n",
    "\n"
   ]
  },
  {
   "cell_type": "code",
   "execution_count": null,
   "id": "4270bd68",
   "metadata": {},
   "outputs": [],
   "source": [
    "raa_df = pd.read_csv(\"https://raw.githubusercontent.com/casact/chainladder-python/master/chainladder/utils/data/raa.csv\")\n",
    "raa_df.head(10)"
   ]
  },
  {
   "cell_type": "markdown",
   "id": "a858ac34",
   "metadata": {},
   "source": [
    "Vemos que dataframe cargado posee las columnas mínimas requeridas.\n",
    "La forma para obtener una clase de tipo `Triangle` se obtiene con el método `Triangle`"
   ]
  },
  {
   "cell_type": "code",
   "execution_count": null,
   "id": "e635385a",
   "metadata": {},
   "outputs": [],
   "source": [
    "raa = cl.Triangle(raa_df,origin=\"origin\",development=\"development\",columns=\"values\",cumulative=True)\n",
    "raa"
   ]
  },
  {
   "cell_type": "markdown",
   "id": "f1f6b510",
   "metadata": {},
   "source": [
    "\n",
    "## Modelado Actuarial Básico\n",
    "\n",
    "El modelo Chainladder básico se puede aplicar de la siguiente manera:\n",
    "\n",
    "```python\n",
    "modelo = cl.Chainladder()\n",
    "resultado = modelo.fit(triangulo)\n",
    "print(resultado)\n",
    "```\n",
    "\n",
    "Este ejemplo muestra cómo ajustar el modelo Chainladder básico a un triángulo de desarrollo de pérdidas.\n"
   ]
  },
  {
   "cell_type": "markdown",
   "id": "8691052e",
   "metadata": {},
   "source": [
    "\n",
    "## Métodos Avanzados de Modelado\n",
    "\n",
    "Además del modelo Chainladder básico, la biblioteca ofrece otros modelos como Bornhuetter-Ferguson. \n",
    "Aquí hay un ejemplo de cómo aplicarlo:\n",
    "\n",
    "```python\n",
    "modelo_bf = cl.BornhuetterFerguson()\n",
    "resultado_bf = modelo_bf.fit(triangulo)\n",
    "print(resultado_bf)\n",
    "```\n",
    "\n",
    "Este modelo combina los datos históricos con a prioris para hacer proyecciones.\n"
   ]
  },
  {
   "cell_type": "markdown",
   "id": "030cc733",
   "metadata": {},
   "source": [
    "\n",
    "## Visualización y Reporte\n",
    "\n",
    "`chainladder` facilita la visualización de los resultados. Por ejemplo, puedes graficar los resultados \n",
    "del modelo:\n",
    "\n",
    "```python\n",
    "import matplotlib.pyplot as plt\n",
    "\n",
    "# Graficar los resultados\n",
    "triangulo.plot()\n",
    "plt.show()\n",
    "```\n",
    "\n",
    "Este código genera un gráfico del triángulo de desarrollo de pérdidas.\n"
   ]
  },
  {
   "cell_type": "markdown",
   "id": "a23bd33a",
   "metadata": {},
   "source": [
    "\n",
    "## Ejemplos y Casos Prácticos\n",
    "\n",
    "Aquí puedes incluir varios ejemplos prácticos y casos de estudio utilizando conjuntos de datos reales \n",
    "o simulados para ilustrar cómo se puede aplicar `chainladder` en situaciones del mundo real.\n"
   ]
  },
  {
   "cell_type": "markdown",
   "id": "1cdf9deb",
   "metadata": {},
   "source": [
    "\n",
    "## Recursos Adicionales y Conclusión\n",
    "\n",
    "Para aprender más sobre `chainladder` y análisis actuarial, puedes consultar la documentación oficial \n",
    "y otros recursos en línea. Siempre es útil mantenerse al día con las últimas tendencias y técnicas en \n",
    "el campo actuarial.\n",
    "\n",
    "Conclusión: `chainladder` es una herramienta esencial para los actuarios en el ámbito de seguros, \n",
    "ofreciendo un enfoque robusto y flexible para la estimación de reservas.\n"
   ]
  }
 ],
 "metadata": {
  "language_info": {
   "name": "python"
  }
 },
 "nbformat": 4,
 "nbformat_minor": 5
}
